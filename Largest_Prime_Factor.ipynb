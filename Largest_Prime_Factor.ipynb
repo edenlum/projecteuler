{
  "nbformat": 4,
  "nbformat_minor": 0,
  "metadata": {
    "colab": {
      "provenance": [],
      "authorship_tag": "ABX9TyN4W2wlVZkTWRruZXwRCIB2",
      "include_colab_link": true
    },
    "kernelspec": {
      "name": "python3",
      "display_name": "Python 3"
    },
    "language_info": {
      "name": "python"
    }
  },
  "cells": [
    {
      "cell_type": "markdown",
      "metadata": {
        "id": "view-in-github",
        "colab_type": "text"
      },
      "source": [
        "<a href=\"https://colab.research.google.com/github/edenlum/projecteuler/blob/main/Largest_Prime_Factor.ipynb\" target=\"_parent\"><img src=\"https://colab.research.google.com/assets/colab-badge.svg\" alt=\"Open In Colab\"/></a>"
      ]
    },
    {
      "cell_type": "markdown",
      "source": [
        "https://projecteuler.net/problem=3"
      ],
      "metadata": {
        "id": "vGkCGn97JD8X"
      }
    },
    {
      "cell_type": "markdown",
      "source": [
        "<p>The prime factors of $13195$ are $5, 7, 13$ and $29$.</p>\n",
        "<p>What is the largest prime factor of the number $600851475143$?</p>\n",
        "\n"
      ],
      "metadata": {
        "id": "R40c6s-9I909"
      }
    },
    {
      "cell_type": "code",
      "source": [
        "n = 600851475143\n",
        "i = 2\n",
        "while i * i <= n:\n",
        "    while n % i == 0:\n",
        "        n //= i\n",
        "    i += 1\n",
        "print(n)"
      ],
      "metadata": {
        "colab": {
          "base_uri": "https://localhost:8080/"
        },
        "id": "QoTA8CyhI-Sh",
        "outputId": "91f2391f-abd7-41e3-ca84-051ad629b03c"
      },
      "execution_count": 1,
      "outputs": [
        {
          "output_type": "stream",
          "name": "stdout",
          "text": [
            "6857\n"
          ]
        }
      ]
    },
    {
      "cell_type": "code",
      "source": [],
      "metadata": {
        "id": "zk_5XbI2JHXX"
      },
      "execution_count": null,
      "outputs": []
    }
  ]
}