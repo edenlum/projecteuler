{
  "nbformat": 4,
  "nbformat_minor": 0,
  "metadata": {
    "colab": {
      "provenance": [],
      "authorship_tag": "ABX9TyNH45m3RQ8IPjtVsqEj7FBh",
      "include_colab_link": true
    },
    "kernelspec": {
      "name": "python3",
      "display_name": "Python 3"
    },
    "language_info": {
      "name": "python"
    }
  },
  "cells": [
    {
      "cell_type": "markdown",
      "metadata": {
        "id": "view-in-github",
        "colab_type": "text"
      },
      "source": [
        "<a href=\"https://colab.research.google.com/github/edenlum/projecteuler/blob/main/19_Counting_Sundays.ipynb\" target=\"_parent\"><img src=\"https://colab.research.google.com/assets/colab-badge.svg\" alt=\"Open In Colab\"/></a>"
      ]
    },
    {
      "cell_type": "markdown",
      "source": [
        "https://projecteuler.net/problem=19"
      ],
      "metadata": {
        "id": "iYj20sQ01VAB"
      }
    },
    {
      "cell_type": "markdown",
      "source": [
        "\n",
        "<p>You are given the following information, but you may prefer to do some research for yourself.</p>\n",
        "<ul><li>1 Jan 1900 was a Monday.</li>\n",
        "<li>Thirty days has September,<br />\n",
        "April, June and November.<br />\n",
        "All the rest have thirty-one,<br />\n",
        "Saving February alone,<br />\n",
        "Which has twenty-eight, rain or shine.<br />\n",
        "And on leap years, twenty-nine.</li>\n",
        "<li>A leap year occurs on any year evenly divisible by 4, but not on a century unless it is divisible by 400.</li>\n",
        "</ul><p>How many Sundays fell on the first of the month during the twentieth century (1 Jan 1901 to 31 Dec 2000)?</p>\n"
      ],
      "metadata": {
        "id": "Rj54R00q1Xwr"
      }
    },
    {
      "cell_type": "code",
      "source": [
        "def days_in_month(month, year):\n",
        "    if month in [1, 3, 5, 7, 8, 10, 12]:\n",
        "        return 31\n",
        "    if month in [4, 6, 9, 11]:\n",
        "        return 30\n",
        "    if month == 2:\n",
        "        if year % 400 == 0:\n",
        "            return 29\n",
        "        if year % 100 == 0:\n",
        "            return 28\n",
        "        if year % 4 == 0:\n",
        "            return 29\n",
        "        else:\n",
        "            return 28"
      ],
      "metadata": {
        "id": "GzrSJIQx2PH_"
      },
      "execution_count": 11,
      "outputs": []
    },
    {
      "cell_type": "code",
      "source": [
        "# Let's go over all the first of the months and calculate if they were a sunday or not\n",
        "cur_day_of_week = 2 # start from tuesday (Jan 1st 1901 was tuesday) - sunday = 0\n",
        "# if we want to add N days we do day += N % 7\n",
        "sum = 0\n",
        "cur_year = 1901\n",
        "while (cur_year < 2001):\n",
        "    cur_month = 1\n",
        "    while (cur_month < 13):\n",
        "        if cur_day_of_week == 0:\n",
        "            sum += 1\n",
        "            print(cur_month, cur_year)\n",
        "        cur_day_of_week = (cur_day_of_week + days_in_month(cur_month, cur_year)) % 7\n",
        "        cur_month += 1\n",
        "    cur_year += 1\n",
        "sum"
      ],
      "metadata": {
        "colab": {
          "base_uri": "https://localhost:8080/"
        },
        "id": "OmLkw2o_4lQt",
        "outputId": "d2edf4ea-d72e-4d7f-c7b2-50f7bc7910d6"
      },
      "execution_count": 15,
      "outputs": [
        {
          "output_type": "stream",
          "name": "stdout",
          "text": [
            "9 1901\n",
            "12 1901\n",
            "6 1902\n",
            "2 1903\n",
            "3 1903\n",
            "11 1903\n",
            "5 1904\n",
            "1 1905\n",
            "10 1905\n",
            "4 1906\n",
            "7 1906\n",
            "9 1907\n",
            "12 1907\n",
            "3 1908\n",
            "11 1908\n",
            "8 1909\n",
            "5 1910\n",
            "1 1911\n",
            "10 1911\n",
            "9 1912\n",
            "12 1912\n",
            "6 1913\n",
            "2 1914\n",
            "3 1914\n",
            "11 1914\n",
            "8 1915\n",
            "10 1916\n",
            "4 1917\n",
            "7 1917\n",
            "9 1918\n",
            "12 1918\n",
            "6 1919\n",
            "2 1920\n",
            "8 1920\n",
            "5 1921\n",
            "1 1922\n",
            "10 1922\n",
            "4 1923\n",
            "7 1923\n",
            "6 1924\n",
            "2 1925\n",
            "3 1925\n",
            "11 1925\n",
            "8 1926\n",
            "5 1927\n",
            "1 1928\n",
            "4 1928\n",
            "7 1928\n",
            "9 1929\n",
            "12 1929\n",
            "6 1930\n",
            "2 1931\n",
            "3 1931\n",
            "11 1931\n",
            "5 1932\n",
            "1 1933\n",
            "10 1933\n",
            "4 1934\n",
            "7 1934\n",
            "9 1935\n",
            "12 1935\n",
            "3 1936\n",
            "11 1936\n",
            "8 1937\n",
            "5 1938\n",
            "1 1939\n",
            "10 1939\n",
            "9 1940\n",
            "12 1940\n",
            "6 1941\n",
            "2 1942\n",
            "3 1942\n",
            "11 1942\n",
            "8 1943\n",
            "10 1944\n",
            "4 1945\n",
            "7 1945\n",
            "9 1946\n",
            "12 1946\n",
            "6 1947\n",
            "2 1948\n",
            "8 1948\n",
            "5 1949\n",
            "1 1950\n",
            "10 1950\n",
            "4 1951\n",
            "7 1951\n",
            "6 1952\n",
            "2 1953\n",
            "3 1953\n",
            "11 1953\n",
            "8 1954\n",
            "5 1955\n",
            "1 1956\n",
            "4 1956\n",
            "7 1956\n",
            "9 1957\n",
            "12 1957\n",
            "6 1958\n",
            "2 1959\n",
            "3 1959\n",
            "11 1959\n",
            "5 1960\n",
            "1 1961\n",
            "10 1961\n",
            "4 1962\n",
            "7 1962\n",
            "9 1963\n",
            "12 1963\n",
            "3 1964\n",
            "11 1964\n",
            "8 1965\n",
            "5 1966\n",
            "1 1967\n",
            "10 1967\n",
            "9 1968\n",
            "12 1968\n",
            "6 1969\n",
            "2 1970\n",
            "3 1970\n",
            "11 1970\n",
            "8 1971\n",
            "10 1972\n",
            "4 1973\n",
            "7 1973\n",
            "9 1974\n",
            "12 1974\n",
            "6 1975\n",
            "2 1976\n",
            "8 1976\n",
            "5 1977\n",
            "1 1978\n",
            "10 1978\n",
            "4 1979\n",
            "7 1979\n",
            "6 1980\n",
            "2 1981\n",
            "3 1981\n",
            "11 1981\n",
            "8 1982\n",
            "5 1983\n",
            "1 1984\n",
            "4 1984\n",
            "7 1984\n",
            "9 1985\n",
            "12 1985\n",
            "6 1986\n",
            "2 1987\n",
            "3 1987\n",
            "11 1987\n",
            "5 1988\n",
            "1 1989\n",
            "10 1989\n",
            "4 1990\n",
            "7 1990\n",
            "9 1991\n",
            "12 1991\n",
            "3 1992\n",
            "11 1992\n",
            "8 1993\n",
            "5 1994\n",
            "1 1995\n",
            "10 1995\n",
            "9 1996\n",
            "12 1996\n",
            "6 1997\n",
            "2 1998\n",
            "3 1998\n",
            "11 1998\n",
            "8 1999\n",
            "10 2000\n"
          ]
        },
        {
          "output_type": "execute_result",
          "data": {
            "text/plain": [
              "171"
            ]
          },
          "metadata": {},
          "execution_count": 15
        }
      ]
    },
    {
      "cell_type": "code",
      "source": [],
      "metadata": {
        "id": "R96Hec8W54B5"
      },
      "execution_count": null,
      "outputs": []
    }
  ]
}