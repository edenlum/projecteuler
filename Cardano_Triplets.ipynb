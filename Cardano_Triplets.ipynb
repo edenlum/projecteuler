{
  "nbformat": 4,
  "nbformat_minor": 0,
  "metadata": {
    "colab": {
      "provenance": [],
      "authorship_tag": "ABX9TyOQyo/uyFP5aJp46m/xjZXu",
      "include_colab_link": true
    },
    "kernelspec": {
      "name": "python3",
      "display_name": "Python 3"
    },
    "language_info": {
      "name": "python"
    }
  },
  "cells": [
    {
      "cell_type": "markdown",
      "metadata": {
        "id": "view-in-github",
        "colab_type": "text"
      },
      "source": [
        "<a href=\"https://colab.research.google.com/github/edenlum/projecteuler/blob/main/Cardano_Triplets.ipynb\" target=\"_parent\"><img src=\"https://colab.research.google.com/assets/colab-badge.svg\" alt=\"Open In Colab\"/></a>"
      ]
    },
    {
      "cell_type": "markdown",
      "source": [
        "https://projecteuler.net/problem=251\n",
        "\n",
        "<p>\n",
        "A triplet of positive integers $(a, b, c)$ is called a Cardano Triplet if it satisfies the condition:</p>\n",
        "$$\\sqrt[3]{a + b \\sqrt{c}} + \\sqrt[3]{a - b \\sqrt{c}} = 1$$\n",
        "\n",
        "<p>\n",
        "For example, $(2,1,5)$ is a Cardano Triplet.\n",
        "</p>\n",
        "<p>\n",
        "There exist $149$ Cardano Triplets for which $a + b + c \\le 1000$.\n",
        "</p>\n",
        "<p>\n",
        "Find how many Cardano Triplets exist such that $a + b + c \\le 110\\,000\\,000$.\n",
        "</p>"
      ],
      "metadata": {
        "id": "nJvWmaXXVw2s"
      }
    },
    {
      "cell_type": "markdown",
      "source": [
        "Given some $a$, call $b\\sqrt{c}$ = x and solve for x: $$x = \\frac{(1 + a) \\sqrt{8 a - 1}}{3 \\sqrt{3}}$$\n",
        "\n",
        "Notice that $x$ is not an integer necessarily but $x^2$ is. So $$x^2 = \\frac{(1 + a)^2 (8 a - 1)}{27}$$ is an integer.\n",
        "\n",
        "So $(1+a)^2(8a-1) = 0 \\mod 27$. This means that:\n",
        "1. $(a+1) = 0 \\mod 3$ and $(8a-1) = 0 \\mod 3$\n",
        "2. $(a+1) = 0 \\mod 9$\n",
        "3. $(8a-1) = 0 \\mod 27$\n",
        "\n",
        "Let's analyze:\n",
        "1. $a = 3k + 2$ and therefore $8a = 24k+16 = 1 \\mod 3$ so the other condition applies immediately.\n",
        "2. $a = 9k + 8$ which is a subset of the first condition.\n",
        "3. $8a = 1 \\mod 27 \\to 8 * (a\\mod 27) \\mod 27 = 1 \\to a = 17 \\mod 27$. This is also a subset of the first condition.\n",
        "\n",
        "Let's plot it $x(a)$:"
      ],
      "metadata": {
        "id": "8DkKNa9daNP6"
      }
    },
    {
      "cell_type": "code",
      "execution_count": 1,
      "metadata": {
        "colab": {
          "base_uri": "https://localhost:8080/",
          "height": 430
        },
        "id": "o8X5dkCUVtZq",
        "outputId": "b201b04f-75b6-4bfa-9803-15797f0b2b5b"
      },
      "outputs": [
        {
          "output_type": "display_data",
          "data": {
            "text/plain": [
              "<Figure size 640x480 with 1 Axes>"
            ],
            "image/png": "[encoded data removed]"
          },
          "metadata": {}
        }
      ],
      "source": [
        "from matplotlib import pyplot as plt\n",
        "import numpy as np\n",
        "\n",
        "limit = 1000\n",
        "a = np.linspace(1, limit, 1000)\n",
        "x = (1 + a) * np.sqrt(8 * a - 1) / (3 * np.sqrt(3))\n",
        "plt.plot(a, x)\n",
        "plt.show()"
      ]
    },
    {
      "cell_type": "markdown",
      "source": [
        "Find the upper limit to search for a. Given $a$ we calculate $x = b\\sqrt{c}$. We know that $c = x^2/b^2$, and we need to find the min of $b+c = b+x^2/b^2$.\n",
        "\n",
        "Finding the derivative w.r.t $b$: $$1 - \\frac{2x^2}{b^3} = 0 \\Rightarrow b^3 = 2x^2$$\n",
        "\n",
        "$a_{max} = \\text{limit} - b_{min} - c_{min} = \\text{limit} - (2x^2)^{1/3} - x^2/(2x^2)^{2/3}$\n",
        "\n",
        "Let's solve for $a$:"
      ],
      "metadata": {
        "id": "eGGIq6NQ6Sww"
      }
    },
    {
      "cell_type": "code",
      "source": [
        "import sympy as sp\n",
        "\n",
        "def find_limit_a(limit):\n",
        "    a = sp.Symbol('a')\n",
        "    x = (1 + a) * sp.sqrt(8 * a - 1) / (3 * sp.sqrt(3))\n",
        "    b_min = (2 * x**2)**(1/3)\n",
        "    c_min = x**2/(2 * x**2)**(2/3)\n",
        "    limit_a = limit - b_min - c_min\n",
        "    formula = sp.solve(a - limit_a, a)[0]\n",
        "    # evaluate\n",
        "    return int(float(formula))\n",
        "\n",
        "find_limit_a(110_000_000)"
      ],
      "metadata": {
        "colab": {
          "base_uri": "https://localhost:8080/"
        },
        "id": "I5_WXBW8fXyb",
        "outputId": "4ec9460f-026d-48b4-f948-71b0627254a3"
      },
      "execution_count": 2,
      "outputs": [
        {
          "output_type": "execute_result",
          "data": {
            "text/plain": [
              "48674266"
            ]
          },
          "metadata": {},
          "execution_count": 2
        }
      ]
    },
    {
      "cell_type": "markdown",
      "source": [
        "Given that we know $x$, $x^2 = b^2c$ is an integer. We need to find all factors of it that are squares and then $b=\\sqrt{\\text{square factor}}, c=x^2/b^2$."
      ],
      "metadata": {
        "id": "nDn721C-BQuC"
      }
    },
    {
      "cell_type": "code",
      "source": [
        "import itertools\n",
        "from sympy import factorint\n",
        "\n",
        "def all_subsets(s):\n",
        "    return itertools.chain.from_iterable(itertools.combinations(s, r) for r in range(len(s)+1))\n",
        "\n",
        "def all_squares(even_factors_count):\n",
        "    factors = []\n",
        "    for k, v in even_factors_count.items():\n",
        "        factors += [k] * v\n",
        "    for subset in set(all_subsets(factors)):\n",
        "        product = 1\n",
        "        for factor in subset:\n",
        "            product *= factor\n",
        "        yield product\n",
        "\n",
        "def all_squares_len(N):\n",
        "    even_factors_count = {k: v//2 for k,v in factorint(N).items() if v//2 > 0}\n",
        "    factors = []\n",
        "    for k, v in even_factors_count.items():\n",
        "        factors += [k] * v\n",
        "    return len(set(all_subsets(factors)))\n"
      ],
      "metadata": {
        "id": "EkMlgX7yBQPY"
      },
      "execution_count": 40,
      "outputs": []
    },
    {
      "cell_type": "code",
      "source": [
        "import math\n",
        "from sympy import factorint\n",
        "\n",
        "# Function to check if a given number is close to a perfect square\n",
        "def is_close_to_integer(n):\n",
        "    return abs(n - round(n)) < 1e-9\n",
        "\n",
        "# Function to find Cardano Triplets using factorization of d^2\n",
        "def find_cardano_triplets_with_factors(limit):\n",
        "    triplets = 0\n",
        "\n",
        "    def check(a, b, c):\n",
        "        f = (a + b * math.sqrt(c)) ** (1/3) - abs(a - b * math.sqrt(c)) ** (1/3)\n",
        "        if abs(f-1) > 1e-9:\n",
        "            print(f\"f TOO BIG\")\n",
        "        if a + b + c <= limit:\n",
        "            triplets.append((a, b, c))\n",
        "            print(f\"Found triplet: a={a}, b={b}, c={c}\")\n",
        "        else:\n",
        "            print(f\"Triplet exceeds limit: a={a}, b={b}, c={c}\")\n",
        "\n",
        "    # Iterate over potential values of a\n",
        "    for a in range(2, limit, 3):\n",
        "        # Calculate d\n",
        "        d1 = (1+a)//3\n",
        "        d2 = (8*a-1)//3\n",
        "        factors_squared = factorint(d1)\n",
        "        for factor, count in factorint(d2).items():\n",
        "            if count//2>0:\n",
        "                factors_squared[factor] = factors_squared.get(factor, 0) + count//2\n",
        "        # print(factors_squared)\n",
        "        for b in all_squares(factors_squared):\n",
        "            # print(b)\n",
        "            # print(a, b, (d1*d1*d2)//(b*b))\n",
        "            if limit >= a + b + (d1*d1*d2)//(b*b):\n",
        "                triplets += 1\n",
        "        # total = 1\n",
        "        # for factor, count in factors_squared.items():\n",
        "        #     total *= (count+1)\n",
        "        # print(a, (a+1)//3, (8*a-1)//3, total)\n",
        "        # triplets += total\n",
        "\n",
        "    return triplets\n",
        "\n",
        "# Find Cardano Triplets with a + b + c <= 110,000,000\n",
        "limit = 1000\n",
        "triplets = find_cardano_triplets_with_factors(limit)\n",
        "\n",
        "triplets"
      ],
      "metadata": {
        "colab": {
          "base_uri": "https://localhost:8080/",
          "height": 370
        },
        "id": "T-CC9Do7f-yZ",
        "outputId": "e0375e81-8e94-4c00-e708-2a1b4628fd58"
      },
      "execution_count": 43,
      "outputs": [
        {
          "output_type": "error",
          "ename": "KeyboardInterrupt",
          "evalue": "",
          "traceback": [
            "\u001b[0;31m---------------------------------------------------------------------------\u001b[0m",
            "\u001b[0;31mKeyboardInterrupt\u001b[0m                         Traceback (most recent call last)",
            "\u001b[0;32m<ipython-input-43-9662138dcb47>\u001b[0m in \u001b[0;36m<cell line: 47>\u001b[0;34m()\u001b[0m\n\u001b[1;32m     45\u001b[0m \u001b[0;31m# Find Cardano Triplets with a + b + c <= 110,000,000\u001b[0m\u001b[0;34m\u001b[0m\u001b[0;34m\u001b[0m\u001b[0m\n\u001b[1;32m     46\u001b[0m \u001b[0mlimit\u001b[0m \u001b[0;34m=\u001b[0m \u001b[0;36m110_000_000\u001b[0m\u001b[0;34m\u001b[0m\u001b[0;34m\u001b[0m\u001b[0m\n\u001b[0;32m---> 47\u001b[0;31m \u001b[0mtriplets\u001b[0m \u001b[0;34m=\u001b[0m \u001b[0mfind_cardano_triplets_with_factors\u001b[0m\u001b[0;34m(\u001b[0m\u001b[0mlimit\u001b[0m\u001b[0;34m)\u001b[0m\u001b[0;34m\u001b[0m\u001b[0;34m\u001b[0m\u001b[0m\n\u001b[0m\u001b[1;32m     48\u001b[0m \u001b[0;34m\u001b[0m\u001b[0m\n\u001b[1;32m     49\u001b[0m \u001b[0mtriplets\u001b[0m\u001b[0;34m\u001b[0m\u001b[0;34m\u001b[0m\u001b[0m\n",
            "\u001b[0;32m<ipython-input-43-9662138dcb47>\u001b[0m in \u001b[0;36mfind_cardano_triplets_with_factors\u001b[0;34m(limit)\u001b[0m\n\u001b[1;32m     26\u001b[0m         \u001b[0md2\u001b[0m \u001b[0;34m=\u001b[0m \u001b[0;34m(\u001b[0m\u001b[0;36m8\u001b[0m\u001b[0;34m*\u001b[0m\u001b[0ma\u001b[0m\u001b[0;34m-\u001b[0m\u001b[0;36m1\u001b[0m\u001b[0;34m)\u001b[0m\u001b[0;34m//\u001b[0m\u001b[0;36m3\u001b[0m\u001b[0;34m\u001b[0m\u001b[0;34m\u001b[0m\u001b[0m\n\u001b[1;32m     27\u001b[0m         \u001b[0mfactors_squared\u001b[0m \u001b[0;34m=\u001b[0m \u001b[0mfactorint\u001b[0m\u001b[0;34m(\u001b[0m\u001b[0md1\u001b[0m\u001b[0;34m)\u001b[0m\u001b[0;34m\u001b[0m\u001b[0;34m\u001b[0m\u001b[0m\n\u001b[0;32m---> 28\u001b[0;31m         \u001b[0;32mfor\u001b[0m \u001b[0mfactor\u001b[0m\u001b[0;34m,\u001b[0m \u001b[0mcount\u001b[0m \u001b[0;32min\u001b[0m \u001b[0mfactorint\u001b[0m\u001b[0;34m(\u001b[0m\u001b[0md2\u001b[0m\u001b[0;34m)\u001b[0m\u001b[0;34m.\u001b[0m\u001b[0mitems\u001b[0m\u001b[0;34m(\u001b[0m\u001b[0;34m)\u001b[0m\u001b[0;34m:\u001b[0m\u001b[0;34m\u001b[0m\u001b[0;34m\u001b[0m\u001b[0m\n\u001b[0m\u001b[1;32m     29\u001b[0m             \u001b[0;32mif\u001b[0m \u001b[0mcount\u001b[0m\u001b[0;34m//\u001b[0m\u001b[0;36m2\u001b[0m\u001b[0;34m>\u001b[0m\u001b[0;36m0\u001b[0m\u001b[0;34m:\u001b[0m\u001b[0;34m\u001b[0m\u001b[0;34m\u001b[0m\u001b[0m\n\u001b[1;32m     30\u001b[0m                 \u001b[0mfactors_squared\u001b[0m\u001b[0;34m[\u001b[0m\u001b[0mfactor\u001b[0m\u001b[0;34m]\u001b[0m \u001b[0;34m=\u001b[0m \u001b[0mfactors_squared\u001b[0m\u001b[0;34m.\u001b[0m\u001b[0mget\u001b[0m\u001b[0;34m(\u001b[0m\u001b[0mfactor\u001b[0m\u001b[0;34m,\u001b[0m \u001b[0;36m0\u001b[0m\u001b[0;34m)\u001b[0m \u001b[0;34m+\u001b[0m \u001b[0mcount\u001b[0m\u001b[0;34m//\u001b[0m\u001b[0;36m2\u001b[0m\u001b[0;34m\u001b[0m\u001b[0;34m\u001b[0m\u001b[0m\n",
            "\u001b[0;32m/usr/local/lib/python3.10/dist-packages/sympy/ntheory/factor_.py\u001b[0m in \u001b[0;36mfactorint\u001b[0;34m(n, limit, use_trial, use_rho, use_pm1, use_ecm, verbose, visual, multiple)\u001b[0m\n\u001b[1;32m   1274\u001b[0m         \u001b[0;32mif\u001b[0m \u001b[0mverbose\u001b[0m\u001b[0;34m:\u001b[0m\u001b[0;34m\u001b[0m\u001b[0;34m\u001b[0m\u001b[0m\n\u001b[1;32m   1275\u001b[0m             \u001b[0mprint\u001b[0m\u001b[0;34m(\u001b[0m\u001b[0mtrial_int_msg\u001b[0m \u001b[0;34m%\u001b[0m \u001b[0;34m(\u001b[0m\u001b[0;36m2\u001b[0m\u001b[0;34m,\u001b[0m \u001b[0msmall\u001b[0m\u001b[0;34m,\u001b[0m \u001b[0mfail_max\u001b[0m\u001b[0;34m)\u001b[0m\u001b[0;34m)\u001b[0m\u001b[0;34m\u001b[0m\u001b[0;34m\u001b[0m\u001b[0m\n\u001b[0;32m-> 1276\u001b[0;31m         \u001b[0mn\u001b[0m\u001b[0;34m,\u001b[0m \u001b[0mnext_p\u001b[0m \u001b[0;34m=\u001b[0m \u001b[0m_factorint_small\u001b[0m\u001b[0;34m(\u001b[0m\u001b[0mfactors\u001b[0m\u001b[0;34m,\u001b[0m \u001b[0mn\u001b[0m\u001b[0;34m,\u001b[0m \u001b[0msmall\u001b[0m\u001b[0;34m,\u001b[0m \u001b[0mfail_max\u001b[0m\u001b[0;34m)\u001b[0m\u001b[0;34m\u001b[0m\u001b[0;34m\u001b[0m\u001b[0m\n\u001b[0m\u001b[1;32m   1277\u001b[0m     \u001b[0;32melse\u001b[0m\u001b[0;34m:\u001b[0m\u001b[0;34m\u001b[0m\u001b[0;34m\u001b[0m\u001b[0m\n\u001b[1;32m   1278\u001b[0m         \u001b[0mnext_p\u001b[0m \u001b[0;34m=\u001b[0m \u001b[0;36m2\u001b[0m\u001b[0;34m\u001b[0m\u001b[0;34m\u001b[0m\u001b[0m\n",
            "\u001b[0;32m/usr/local/lib/python3.10/dist-packages/sympy/ntheory/factor_.py\u001b[0m in \u001b[0;36m_factorint_small\u001b[0;34m(factors, n, limit, fail_max)\u001b[0m\n\u001b[1;32m    969\u001b[0m         \u001b[0;31m# reduce\u001b[0m\u001b[0;34m\u001b[0m\u001b[0;34m\u001b[0m\u001b[0m\n\u001b[1;32m    970\u001b[0m         \u001b[0mm\u001b[0m \u001b[0;34m=\u001b[0m \u001b[0;36m0\u001b[0m\u001b[0;34m\u001b[0m\u001b[0;34m\u001b[0m\u001b[0m\n\u001b[0;32m--> 971\u001b[0;31m         \u001b[0;32mwhile\u001b[0m \u001b[0mn\u001b[0m \u001b[0;34m%\u001b[0m \u001b[0md\u001b[0m \u001b[0;34m==\u001b[0m \u001b[0;36m0\u001b[0m\u001b[0;34m:\u001b[0m\u001b[0;34m\u001b[0m\u001b[0;34m\u001b[0m\u001b[0m\n\u001b[0m\u001b[1;32m    972\u001b[0m             \u001b[0mn\u001b[0m \u001b[0;34m//=\u001b[0m \u001b[0md\u001b[0m\u001b[0;34m\u001b[0m\u001b[0;34m\u001b[0m\u001b[0m\n\u001b[1;32m    973\u001b[0m             \u001b[0mm\u001b[0m \u001b[0;34m+=\u001b[0m \u001b[0;36m1\u001b[0m\u001b[0;34m\u001b[0m\u001b[0;34m\u001b[0m\u001b[0m\n",
            "\u001b[0;31mKeyboardInterrupt\u001b[0m: "
          ]
        }
      ]
    },
    {
      "cell_type": "code",
      "source": [
        "(2 + math.sqrt(5))** (1/3)"
      ],
      "metadata": {
        "colab": {
          "base_uri": "https://localhost:8080/"
        },
        "id": "D29qA3t5LanF",
        "outputId": "b46f1e82-8c21-4f90-a6d6-04f01e2a651c"
      },
      "execution_count": 6,
      "outputs": [
        {
          "output_type": "execute_result",
          "data": {
            "text/plain": [
              "1.618033988749895"
            ]
          },
          "metadata": {},
          "execution_count": 6
        }
      ]
    },
    {
      "cell_type": "code",
      "source": [
        "(2 - math.sqrt(5)) **(1./3)"
      ],
      "metadata": {
        "colab": {
          "base_uri": "https://localhost:8080/"
        },
        "id": "R5hfDnj8M4Cb",
        "outputId": "546a44fe-72e2-4e8f-cb02-f1f991424752"
      },
      "execution_count": 23,
      "outputs": [
        {
          "output_type": "execute_result",
          "data": {
            "text/plain": [
              "(0.30901699437494756+0.535233134659635j)"
            ]
          },
          "metadata": {},
          "execution_count": 23
        }
      ]
    },
    {
      "cell_type": "code",
      "source": [],
      "metadata": {
        "colab": {
          "base_uri": "https://localhost:8080/"
        },
        "id": "PE1Eoxq9M5VG",
        "outputId": "0f922ea5-43f3-4d06-be50-543725068226"
      },
      "execution_count": 13,
      "outputs": [
        {
          "output_type": "stream",
          "name": "stdout",
          "text": [
            "25\n",
            "81\n",
            "2025\n",
            "1\n",
            "9\n",
            "225\n"
          ]
        }
      ]
    },
    {
      "cell_type": "code",
      "source": [],
      "metadata": {
        "colab": {
          "base_uri": "https://localhost:8080/"
        },
        "id": "NnnLnMmHRkot",
        "outputId": "6fc3f6f1-6830-4458-a35a-9ea04a76f1be"
      },
      "execution_count": 16,
      "outputs": [
        {
          "output_type": "execute_result",
          "data": {
            "text/plain": [
              "225"
            ]
          },
          "metadata": {},
          "execution_count": 16
        }
      ]
    },
    {
      "cell_type": "code",
      "source": [],
      "metadata": {
        "id": "5brq2fy1BEMY"
      },
      "execution_count": null,
      "outputs": []
    }
  ]
}