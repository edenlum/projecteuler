{
  "nbformat": 4,
  "nbformat_minor": 0,
  "metadata": {
    "colab": {
      "provenance": [],
      "authorship_tag": "ABX9TyN79LXF2txv5RHVGvp6VJqA",
      "include_colab_link": true
    },
    "kernelspec": {
      "name": "python3",
      "display_name": "Python 3"
    },
    "language_info": {
      "name": "python"
    }
  },
  "cells": [
    {
      "cell_type": "markdown",
      "metadata": {
        "id": "view-in-github",
        "colab_type": "text"
      },
      "source": [
        "<a href=\"https://colab.research.google.com/github/edenlum/projecteuler/blob/main/Multiplesof3or5.ipynb\" target=\"_parent\"><img src=\"https://colab.research.google.com/assets/colab-badge.svg\" alt=\"Open In Colab\"/></a>"
      ]
    },
    {
      "cell_type": "markdown",
      "source": [
        "https://projecteuler.net/problem=1"
      ],
      "metadata": {
        "id": "PDbDz9b8_nWK"
      }
    },
    {
      "cell_type": "markdown",
      "source": [
        "To sum all of the multiples of 3, we first count how many of them are there $1000/3 = 333.3 \\to $ there are 333.\n",
        "\n",
        "$3 + 6 + ... + 999 = 3(1 + 2 + ... + 333) = 3 \\frac{333 \\cdot 334}{2}$\n",
        "\n",
        "Similarly,\n",
        "\n",
        "$5 + 10 + ... + 995 = 5\\frac{199 \\cdot 200}{2}\n",
        "\n",
        "Notice we count multiples of 15 twice so we need to subtract\n",
        "\n",
        "$15 \\frac {66\\cdot 67}{2}$\n",
        "\n",
        "\n",
        "*We use $\\sum_{i=1}^{n} i = \\frac{n(n+1)}{2}$  "
      ],
      "metadata": {
        "id": "lveINO8q_pDb"
      }
    },
    {
      "cell_type": "code",
      "source": [
        "sum3 = 333*334/2 * 3\n",
        "sum5 = 199*200/2 * 5\n",
        "sum15 = 66*67/2 * 15\n",
        "print(sum3 + sum5 - sum15)"
      ],
      "metadata": {
        "colab": {
          "base_uri": "https://localhost:8080/"
        },
        "id": "K6atY9Uv_-Jp",
        "outputId": "239d6df3-4029-4e9e-924f-f0ecd777d533"
      },
      "execution_count": null,
      "outputs": [
        {
          "output_type": "stream",
          "name": "stdout",
          "text": [
            "233168.0\n"
          ]
        }
      ]
    },
    {
      "cell_type": "code",
      "source": [],
      "metadata": {
        "id": "XJ4ITbj0BB0r"
      },
      "execution_count": null,
      "outputs": []
    }
  ]
}