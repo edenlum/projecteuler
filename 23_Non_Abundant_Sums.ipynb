{
  "nbformat": 4,
  "nbformat_minor": 0,
  "metadata": {
    "colab": {
      "provenance": [],
      "authorship_tag": "ABX9TyMezuOuQyBj4JQTF7FSKEkH",
      "include_colab_link": true
    },
    "kernelspec": {
      "name": "python3",
      "display_name": "Python 3"
    },
    "language_info": {
      "name": "python"
    }
  },
  "cells": [
    {
      "cell_type": "markdown",
      "metadata": {
        "id": "view-in-github",
        "colab_type": "text"
      },
      "source": [
        "<a href=\"https://colab.research.google.com/github/edenlum/projecteuler/blob/main/23_Non_Abundant_Sums.ipynb\" target=\"_parent\"><img src=\"https://colab.research.google.com/assets/colab-badge.svg\" alt=\"Open In Colab\"/></a>"
      ]
    },
    {
      "cell_type": "markdown",
      "source": [
        "https://projecteuler.net/problem=23"
      ],
      "metadata": {
        "id": "zPnTt5c-HqPe"
      }
    },
    {
      "cell_type": "markdown",
      "source": [
        "<p>A perfect number is a number for which the sum of its proper divisors is exactly equal to the number. For example, the sum of the proper divisors of $28$ would be $1 + 2 + 4 + 7 + 14 = 28$, which means that $28$ is a perfect number.</p>\n",
        "<p>A number $n$ is called deficient if the sum of its proper divisors is less than $n$ and it is called abundant if this sum exceeds $n$.</p>\n",
        "\n",
        "<p>As $12$ is the smallest abundant number, $1 + 2 + 3 + 4 + 6 = 16$, the smallest number that can be written as the sum of two abundant numbers is $24$. By mathematical analysis, it can be shown that all integers greater than $28123$ can be written as the sum of two abundant numbers. However, this upper limit cannot be reduced any further by analysis even though it is known that the greatest number that cannot be expressed as the sum of two abundant numbers is less than this limit.</p>\n",
        "<p>Find the sum of all the positive integers which cannot be written as the sum of two abundant numbers.</p>\n"
      ],
      "metadata": {
        "id": "RhStX7TDHqfr"
      }
    },
    {
      "cell_type": "code",
      "execution_count": 2,
      "metadata": {
        "colab": {
          "base_uri": "https://localhost:8080/"
        },
        "id": "I0Ap74ET99NF",
        "outputId": "ce7075c3-5cb6-4ece-e533-f093db07c9a4"
      },
      "outputs": [
        {
          "output_type": "stream",
          "name": "stderr",
          "text": [
            "100%|██████████| 28123/28123 [00:15<00:00, 1775.17it/s]\n"
          ]
        },
        {
          "output_type": "execute_result",
          "data": {
            "text/plain": [
              "4179871"
            ]
          },
          "metadata": {},
          "execution_count": 2
        }
      ],
      "source": [
        "from tqdm import tqdm\n",
        "def sum_divisors(n):\n",
        "    s = 0\n",
        "    for i in range(1,n//2+1):\n",
        "        if n%i == 0:\n",
        "            s += i\n",
        "    return s\n",
        "\n",
        "is_abundant_dict = {}\n",
        "def is_abundant(n):\n",
        "    if n in is_abundant_dict:\n",
        "        return is_abundant_dict[n]\n",
        "    is_abundant_dict[n] = sum_divisors(n) > n\n",
        "    return is_abundant_dict[n]\n",
        "\n",
        "def check(n):\n",
        "    # check if n cannot be written as the sum of two abundant numbers\n",
        "    if n<24:\n",
        "        return True\n",
        "    for i in range(12,n//2+1):\n",
        "        if is_abundant(i) and is_abundant(n-i):\n",
        "            return False\n",
        "    return True\n",
        "\n",
        "s = 0\n",
        "for i in tqdm(range(28123)):\n",
        "    if check(i):\n",
        "        s += i\n",
        "s"
      ]
    },
    {
      "cell_type": "code",
      "source": [],
      "metadata": {
        "id": "4nl9vot5JYxK"
      },
      "execution_count": null,
      "outputs": []
    }
  ]
}