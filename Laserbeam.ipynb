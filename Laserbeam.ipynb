{
  "nbformat": 4,
  "nbformat_minor": 0,
  "metadata": {
    "colab": {
      "provenance": [],
      "authorship_tag": "ABX9TyOJwkMfdZkGtxFlH1GFd8WS",
      "include_colab_link": true
    },
    "kernelspec": {
      "name": "python3",
      "display_name": "Python 3"
    },
    "language_info": {
      "name": "python"
    }
  },
  "cells": [
    {
      "cell_type": "markdown",
      "metadata": {
        "id": "view-in-github",
        "colab_type": "text"
      },
      "source": [
        "<a href=\"https://colab.research.google.com/github/edenlum/projecteuler/blob/main/Laserbeam.ipynb\" target=\"_parent\"><img src=\"https://colab.research.google.com/assets/colab-badge.svg\" alt=\"Open In Colab\"/></a>"
      ]
    },
    {
      "cell_type": "markdown",
      "source": [
        "https://projecteuler.net/problem=202"
      ],
      "metadata": {
        "id": "hmQxHhg6z3Wg"
      }
    },
    {
      "cell_type": "markdown",
      "source": [
        "Equations:\n",
        "\n",
        "1. $2(x+y)-3 = N$\n",
        "\n",
        "2. $\\gcd(x, y) = 1$\n",
        "\n",
        "3. $x = y + 3n$\n",
        "\n",
        "We can change equation 1 to:\n",
        "1. $x+y = (N+3)/2$\n",
        "\n",
        "Notice that $\\gcd(x, y) = 1$ implies $\\gcd(x, x+y) = 1$, and we can simply check that by finding the prime factors for $x+y$ and checking if $x$ is divisible by one of them.\n",
        "\n",
        "Because $x-y = 3n$ then we can jump by 3 when checking possible candidates\n"
      ],
      "metadata": {
        "id": "O9OYcVvh5MoV"
      }
    },
    {
      "cell_type": "code",
      "source": [
        "import numpy as np\n",
        "import sympy as sp\n",
        "\n",
        "N = 1000001\n",
        "\n",
        "def solve(N):\n",
        "    # find the first y that is a candidate\n",
        "    for i in range(3):\n",
        "        if ((N+3)//2 - 2*i) % 3 == 0:\n",
        "            start = i\n",
        "            print(i)\n",
        "            break\n",
        "    candidates = np.arange(start, (N+3)//4, 3)\n",
        "    prime_factors = sp.primefactors((N+3)//2)\n",
        "    print(prime_factors)\n",
        "\n",
        "    for p in prime_factors:\n",
        "        print(len(candidates))\n",
        "        candidates[candidates % p == 0] = 0\n",
        "\n",
        "    return len(candidates[candidates != 0])\n",
        "\n",
        "solve(N)"
      ],
      "metadata": {
        "id": "WaV8H63oz-Ss",
        "outputId": "524f622b-8775-4e81-890e-39e5085c589c",
        "colab": {
          "base_uri": "https://localhost:8080/"
        }
      },
      "execution_count": 4,
      "outputs": [
        {
          "output_type": "stream",
          "name": "stdout",
          "text": [
            "2\n",
            "[2, 53, 89]\n",
            "83333\n",
            "83333\n",
            "83333\n"
          ]
        },
        {
          "output_type": "execute_result",
          "data": {
            "text/plain": [
              "40420"
            ]
          },
          "metadata": {},
          "execution_count": 4
        }
      ]
    },
    {
      "cell_type": "code",
      "source": [
        "# another approach - more naive\n",
        "def solve2(N):\n",
        "    # find the first y that is a candidate\n",
        "    for i in range(3):\n",
        "        if ((N+3)//2 - 2*i) % 3 == 0:\n",
        "            start = i\n",
        "            print(i)\n",
        "            break\n",
        "\n",
        "    prime_factors = sp.primefactors((N+3)//2)\n",
        "    cnt = 0\n",
        "    for i in range(start, (N+3)//4, 3):\n",
        "        for p in prime_factors:\n",
        "            if i % p == 0:\n",
        "                break\n",
        "        else:\n",
        "            cnt += 1\n",
        "    return cnt\n",
        "\n",
        "solve2(N)"
      ],
      "metadata": {
        "id": "vEcdjCXSNwWK",
        "outputId": "5f5451dd-ea6d-4c33-b624-0e07abc5b2f2",
        "colab": {
          "base_uri": "https://localhost:8080/"
        }
      },
      "execution_count": 6,
      "outputs": [
        {
          "output_type": "stream",
          "name": "stdout",
          "text": [
            "2\n"
          ]
        },
        {
          "output_type": "execute_result",
          "data": {
            "text/plain": [
              "40420"
            ]
          },
          "metadata": {},
          "execution_count": 6
        }
      ]
    },
    {
      "cell_type": "code",
      "source": [
        "import signal\n",
        "\n",
        "# Define the timeout handler\n",
        "def timeout_handler(signum, frame):\n",
        "    raise TimeoutError(\"Code took too long\")\n",
        "\n",
        "# Set the signal alarm\n",
        "def run_with_timeout(func, args, timeout):\n",
        "    # Set the alarm signal and the handler\n",
        "    signal.signal(signal.SIGALRM, timeout_handler)\n",
        "    signal.alarm(timeout)  # timeout in seconds\n",
        "    try:\n",
        "        result = func(*args)\n",
        "    finally:\n",
        "        # Cancel the alarm after function completes or raises an error\n",
        "        signal.alarm(0)\n",
        "    return result\n",
        "\n",
        "def my_long_running_function(x):\n",
        "    # Replace the following with your actual long-running code\n",
        "    import time\n",
        "    time.sleep(x)  # Simulate long running process\n",
        "    return \"Finished\"\n",
        "\n",
        "# Usage\n"
      ],
      "metadata": {
        "id": "gX0pWgavzta5"
      },
      "execution_count": 7,
      "outputs": []
    },
    {
      "cell_type": "code",
      "source": [
        "N = 12017639147\n",
        "try:\n",
        "    result = run_with_timeout(solve, (N,), 10)  # args must be a tuple\n",
        "    print(result)\n",
        "except TimeoutError as e:\n",
        "    print(e)\n"
      ],
      "metadata": {
        "id": "qJHf8Qxe5AiQ",
        "outputId": "5a56ba0e-5e6b-4535-95cb-7bd3182208ad",
        "colab": {
          "base_uri": "https://localhost:8080/"
        }
      },
      "execution_count": 8,
      "outputs": [
        {
          "output_type": "stream",
          "name": "stdout",
          "text": [
            "2\n",
            "Code took too long\n"
          ]
        }
      ]
    },
    {
      "cell_type": "markdown",
      "source": [
        "Both approaches take too long. We need to find the number of solutions (x,y), but not what those solutions are. Instead of listing all candidates and removing the ones that fail the conditions, we can keep a count on how many candidates and subtract/add from that.\n",
        "\n",
        "We start with the candidates $\\text{range}(s, t//2, 3)$, where $t = (N+3)//2$, then we remove all candidates that are divisible by one or more factors.\n",
        "\n",
        "Given a factor $p$, the amount of candidates that are divisble by $p$ can be calculated by finding the number of $n$s such that $np = s \\mod 3$ and $np < t//2$ (which means $np \\in \\text{candidates}$).\n",
        "\n",
        "If $p = 0 \\mod 3$ then\n",
        "- if $s=0$ the number of $n$s is $(t//2) // p$\n",
        "- if $s \\ne 0$ the number of $n$s is 0\n",
        "\n",
        "If $p = 1,2 \\mod 3$ then\n",
        "the number of $n$s is equal to:\n",
        "\n",
        "$ (t//2 - p_{min} ) // 3p$\n",
        "\n",
        "where $p_{min} = s \\mod 3$ and isnthe smallest multiple of $p$.\n",
        "\n",
        "Notice that if we go over all prime factors, we will count too many, since we will remove $p_1 p_2$ twice (once when counting $p_1$ and once when counting $p_2$) so we will go over all factors and subtract/add accordingly."
      ],
      "metadata": {
        "id": "Vd4f2txH013A"
      }
    },
    {
      "cell_type": "code",
      "source": [
        "import itertools\n",
        "\n",
        "def mul(arr):\n",
        "    ret = 1\n",
        "    for x in arr:\n",
        "        ret *= x\n",
        "    return ret\n",
        "\n",
        "\n",
        "def solve_eff(N):\n",
        "    t = (N+3)//2\n",
        "    prime_factors = sp.primefactors(t)\n",
        "    print(prime_factors)\n",
        "    # find the first y that is a candidate\n",
        "    for i in range(3):\n",
        "        if (t - 2*i) % 3 == 0:\n",
        "            start = i\n",
        "            print(i)\n",
        "            break\n",
        "\n",
        "    cnt = (t // 2 - start) // 3\n",
        "    print(t, cnt)\n",
        "    for i in range(1, len(prime_factors) + 1):\n",
        "        sign = -1 if i % 2 == 1 else 1\n",
        "        for ps in itertools.combinations(prime_factors, i):\n",
        "            factor = mul(ps)\n",
        "            if factor % 3 == 0:\n",
        "                if start == 0:\n",
        "                    change = (t // 2) // factor\n",
        "                else:\n",
        "                    change = 0\n",
        "            else:\n",
        "                a = factor % 3 # 1 or 2\n",
        "                for i in range(3):\n",
        "                    if (a * i % 3 == start):\n",
        "                        pmin = factor * i\n",
        "                        break\n",
        "                change = (t // 2 - pmin) // (3* factor)\n",
        "            cnt += sign * change\n",
        "            print(factor, f\"{'-' if sign == -1 else '+'}\", change)\n",
        "    return cnt\n",
        "\n",
        "N = 12017639147\n",
        "solve_eff(N)"
      ],
      "metadata": {
        "id": "p1qwfgCV5hLP",
        "outputId": "908e969f-7da1-41e7-8a5e-1449100ef56d",
        "colab": {
          "base_uri": "https://localhost:8080/"
        }
      },
      "execution_count": 22,
      "outputs": [
        {
          "output_type": "stream",
          "name": "stdout",
          "text": [
            "[5, 11, 17, 23, 29, 41, 47]\n",
            "2\n",
            "6008819575 1001469928\n",
            "5 - 200293985\n",
            "11 - 91042720\n",
            "17 - 58909995\n",
            "23 - 43542170\n",
            "29 - 34533445\n",
            "41 - 24426095\n",
            "47 - 21307870\n",
            "55 + 18208543\n",
            "85 + 11781998\n",
            "115 + 8708433\n",
            "145 + 6906688\n",
            "205 + 4885218\n",
            "235 + 4261573\n",
            "187 + 5355453\n",
            "253 + 3958378\n",
            "319 + 3139403\n",
            "451 + 2220553\n",
            "517 + 1937078\n",
            "391 + 2561303\n",
            "493 + 2031378\n",
            "697 + 1436828\n",
            "799 + 1253403\n",
            "667 + 1501453\n",
            "943 + 1062003\n",
            "1081 + 926428\n",
            "1189 + 842278\n",
            "1363 + 734753\n",
            "1927 + 519703\n",
            "935 - 1071090\n",
            "1265 - 791675\n",
            "1595 - 627880\n",
            "2255 - 444110\n",
            "2585 - 387415\n",
            "1955 - 512260\n",
            "2465 - 406275\n",
            "3485 - 287365\n",
            "3995 - 250680\n",
            "3335 - 300290\n",
            "4715 - 212400\n",
            "5405 - 185285\n",
            "5945 - 168455\n",
            "6815 - 146950\n",
            "9635 - 103940\n",
            "4301 - 232845\n",
            "5423 - 184670\n",
            "7667 - 130620\n",
            "8789 - 113945\n",
            "7337 - 136495\n",
            "10373 - 96545\n",
            "11891 - 84220\n",
            "13079 - 76570\n",
            "14993 - 66795\n",
            "21197 - 47245\n",
            "11339 - 88320\n",
            "16031 - 62470\n",
            "18377 - 54495\n",
            "20213 - 49545\n",
            "23171 - 43220\n",
            "32759 - 30570\n",
            "27347 - 36620\n",
            "31349 - 31945\n",
            "44321 - 22595\n",
            "55883 - 17920\n",
            "21505 + 46568\n",
            "27115 + 36933\n",
            "38335 + 26123\n",
            "43945 + 22788\n",
            "36685 + 27298\n",
            "51865 + 19308\n",
            "59455 + 16843\n",
            "65395 + 15313\n",
            "74965 + 13358\n",
            "105985 + 9448\n",
            "56695 + 17663\n",
            "80155 + 12493\n",
            "91885 + 10898\n",
            "101065 + 9908\n",
            "115855 + 8643\n",
            "163795 + 6113\n",
            "136735 + 7323\n",
            "156745 + 6388\n",
            "221605 + 4518\n",
            "279415 + 3583\n",
            "124729 + 8028\n",
            "176341 + 5678\n",
            "202147 + 4953\n",
            "222343 + 4503\n",
            "254881 + 3928\n",
            "360349 + 2778\n",
            "300817 + 3328\n",
            "344839 + 2903\n",
            "487531 + 2053\n",
            "614713 + 1628\n",
            "464899 + 2153\n",
            "532933 + 1878\n",
            "753457 + 1328\n",
            "950011 + 1053\n",
            "1285309 + 778\n",
            "623645 - 1605\n",
            "881705 - 1135\n",
            "1010735 - 990\n",
            "1111715 - 900\n",
            "1274405 - 785\n",
            "1801745 - 555\n",
            "1504085 - 665\n",
            "1724195 - 580\n",
            "2437655 - 410\n",
            "3073565 - 325\n",
            "2324495 - 430\n",
            "2664665 - 375\n",
            "3767285 - 265\n",
            "4750055 - 210\n",
            "6426545 - 155\n",
            "5113889 - 195\n",
            "5862263 - 170\n",
            "8288027 - 120\n",
            "10450121 - 95\n",
            "14138399 - 70\n",
            "21850253 - 45\n",
            "25569445 + 38\n",
            "29311315 + 33\n",
            "41440135 + 23\n",
            "52250605 + 18\n",
            "70691995 + 13\n",
            "109251265 + 8\n",
            "240352783 + 3\n",
            "1201763915 - 0\n"
          ]
        },
        {
          "output_type": "execute_result",
          "data": {
            "text/plain": [
              "604501312"
            ]
          },
          "metadata": {},
          "execution_count": 22
        }
      ]
    },
    {
      "cell_type": "code",
      "source": [
        "604501312 * 2"
      ],
      "metadata": {
        "id": "yLv2iwrm_Ecz",
        "outputId": "0c732c70-3c3e-4e02-aa4c-d99b9347262c",
        "colab": {
          "base_uri": "https://localhost:8080/"
        }
      },
      "execution_count": 23,
      "outputs": [
        {
          "output_type": "execute_result",
          "data": {
            "text/plain": [
              "1209002624"
            ]
          },
          "metadata": {},
          "execution_count": 23
        }
      ]
    }
  ]
}