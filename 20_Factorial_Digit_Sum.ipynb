{
  "nbformat": 4,
  "nbformat_minor": 0,
  "metadata": {
    "colab": {
      "provenance": [],
      "authorship_tag": "ABX9TyO3D9aWCIDDQ0x1qcy2PvTx",
      "include_colab_link": true
    },
    "kernelspec": {
      "name": "python3",
      "display_name": "Python 3"
    },
    "language_info": {
      "name": "python"
    }
  },
  "cells": [
    {
      "cell_type": "markdown",
      "metadata": {
        "id": "view-in-github",
        "colab_type": "text"
      },
      "source": [
        "<a href=\"https://colab.research.google.com/github/edenlum/projecteuler/blob/main/20_Factorial_Digit_Sum.ipynb\" target=\"_parent\"><img src=\"https://colab.research.google.com/assets/colab-badge.svg\" alt=\"Open In Colab\"/></a>"
      ]
    },
    {
      "cell_type": "markdown",
      "source": [
        "https://projecteuler.net/problem=20"
      ],
      "metadata": {
        "id": "zyP2Ovzo84if"
      }
    },
    {
      "cell_type": "markdown",
      "source": [
        "<p>$n!$ means $n \\times (n - 1) \\times \\cdots \\times 3 \\times 2 \\times 1$.</p>\n",
        "<p>For example, $10! = 10 \\times 9 \\times \\cdots \\times 3 \\times 2 \\times 1 = 3628800$,<br>and the sum of the digits in the number $10!$ is $3 + 6 + 2 + 8 + 8 + 0 + 0 = 27$.</p>\n",
        "<p>Find the sum of the digits in the number $100!$.</p>\n"
      ],
      "metadata": {
        "id": "X6v4sUf_86pg"
      }
    },
    {
      "cell_type": "code",
      "source": [
        "res = 1\n",
        "sum = 0\n",
        "for i in range(1,101):\n",
        "    res *= i\n",
        "for c in str(res):\n",
        "    sum += int(c)\n",
        "print(sum)"
      ],
      "metadata": {
        "colab": {
          "base_uri": "https://localhost:8080/"
        },
        "id": "SO-w8MRV87NS",
        "outputId": "1f5c7cd8-8ae7-40b5-98ed-957acfc16ecd"
      },
      "execution_count": 13,
      "outputs": [
        {
          "output_type": "stream",
          "name": "stdout",
          "text": [
            "648\n"
          ]
        }
      ]
    },
    {
      "cell_type": "code",
      "source": [
        "# Now let's do it smarter\n",
        "# We don't need to multiply stuff that add 0s\n",
        "# We can also not multiply by any 5 we find (5*2=10 and there are more twos than fives)\n",
        "res = 1\n",
        "sum = 0\n",
        "for i in range(1,101):\n",
        "    if i % 5 == 0:\n",
        "        res *= i\n",
        "        res = (res//10)\n",
        "        continue\n",
        "    if i % 10 == 0:\n",
        "        res *= (i//10)\n",
        "        continue\n",
        "    res *= i\n",
        "for c in str(res):\n",
        "    if c != '0':\n",
        "        sum += int(c)\n",
        "print(sum)"
      ],
      "metadata": {
        "colab": {
          "base_uri": "https://localhost:8080/"
        },
        "id": "LtrM9Pe588lv",
        "outputId": "a66302bd-c4b7-4dc5-d3c9-d830a05c676a"
      },
      "execution_count": 11,
      "outputs": [
        {
          "output_type": "stream",
          "name": "stdout",
          "text": [
            "648\n"
          ]
        }
      ]
    },
    {
      "cell_type": "code",
      "source": [
        "res"
      ],
      "metadata": {
        "colab": {
          "base_uri": "https://localhost:8080/"
        },
        "id": "Kucx-llb9uym",
        "outputId": "d38b89fe-670b-4fb9-d109-19ef6dc59b22"
      },
      "execution_count": 14,
      "outputs": [
        {
          "output_type": "execute_result",
          "data": {
            "text/plain": [
              "93326215443944152681699238856266700490715968264381621468592963895217599993229915608941463976156518286253697920827223758251185210916864000000000000000000000000"
            ]
          },
          "metadata": {},
          "execution_count": 14
        }
      ]
    },
    {
      "cell_type": "code",
      "source": [],
      "metadata": {
        "id": "NfCoOiug-lx8"
      },
      "execution_count": null,
      "outputs": []
    }
  ]
}