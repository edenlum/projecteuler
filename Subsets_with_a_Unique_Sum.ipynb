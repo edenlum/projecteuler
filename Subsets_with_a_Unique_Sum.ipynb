{
  "nbformat": 4,
  "nbformat_minor": 0,
  "metadata": {
    "colab": {
      "provenance": [],
      "authorship_tag": "ABX9TyPnDw0Q35Y889uPe28gPP50",
      "include_colab_link": true
    },
    "kernelspec": {
      "name": "python3",
      "display_name": "Python 3"
    },
    "language_info": {
      "name": "python"
    }
  },
  "cells": [
    {
      "cell_type": "markdown",
      "metadata": {
        "id": "view-in-github",
        "colab_type": "text"
      },
      "source": [
        "<a href=\"https://colab.research.google.com/github/edenlum/projecteuler/blob/main/Subsets_with_a_Unique_Sum.ipynb\" target=\"_parent\"><img src=\"https://colab.research.google.com/assets/colab-badge.svg\" alt=\"Open In Colab\"/></a>"
      ]
    },
    {
      "cell_type": "markdown",
      "source": [
        "https://projecteuler.net/problem=201"
      ],
      "metadata": {
        "id": "_h-UMMjdAXP7"
      }
    },
    {
      "cell_type": "markdown",
      "source": [
        "To solve this, we will use dynamic programming.\n",
        "\n",
        "We will count for each possible sum how many times it occurs. s(100, 50) returns a dictionary that for each possible sums stores the count.\n",
        "\n",
        "Consider a set of N elements and we need to pick subsets of size K. We can split the subsets into subsets with the last element and without. Counting how many times a sum occurs in subsets with the last element is done by taking s(n-1, k-1) and adding the last element to each item's key in the dictionary (If the last item is x, and we can create s m times by summing a subset of size k-1 of the n-1 first elements, then we can also create s+x m times).\n",
        "\n",
        "Connting how many times a sum occurs in subsets without the last element is done by calling s(n-1, k).\n",
        "\n",
        "The base case is:\n",
        "- k=0 (we can only sum to 0 1 time)\n",
        "- k=1 (we can sum every element 1 times)"
      ],
      "metadata": {
        "id": "TsMEASidBwEK"
      }
    },
    {
      "cell_type": "code",
      "source": [
        "SET = [i*i for i in range(1, 101)]\n",
        "\n",
        "# takes too long\n",
        "@lru_cache(maxsize=None)  # Set maxsize to None for unlimited cache size\n",
        "def s(n, k):\n",
        "    if k==0:\n",
        "        return\n",
        "    if k==1:\n",
        "        return {i: 1 for i in SET}\n",
        "    if k==n:\n",
        "        return {sum(SET): 1}\n",
        "    # without last element\n",
        "    sum_count = s(n-1, k)\n",
        "    # with last element\n",
        "    x = SET[n-1]\n",
        "    for subset_sum, count in s(n-1, k-1).items():\n",
        "        sum_count[subset_sum + x] = sum_count.get(subset_sum + x, 0) + count\n",
        "    return sum_count"
      ],
      "metadata": {
        "id": "nRe9FbbZ3LTV"
      },
      "execution_count": 86,
      "outputs": []
    },
    {
      "cell_type": "markdown",
      "source": [
        "Let's try a dynamic approach instead of recursion.\n",
        "\n",
        "Notice we either call (n-1, k) or (n-1, k-1). We have the base case of (n=k and k=1). We want to keep the results in memory by using a 3d array for n,k and the sum (keeping the counts).\n",
        "\n",
        "The naive approach of saving array of shape (n, k, max) takes too much memory, so instead we will use a rolling array approach. We calculate the elements row by row anyway, starting from k=1 and and n=k+1. We only need to go up to n=k+K (up to (50,1) for example). Each row uses only the previous row."
      ],
      "metadata": {
        "id": "-xUlkjktHcco"
      }
    },
    {
      "cell_type": "code",
      "source": [
        "# import numpy as np\n",
        "\n",
        "# naive approach\n",
        "# def solve_dynamic(n, k):\n",
        "#     s = np.full((n+1, k+1, sum([i*i for i in range(k+1, n+1)])+1), 0)\n",
        "#     # base case k=0\n",
        "#     s[:, 0, 0] = 1\n",
        "#     # base case n=k\n",
        "#     for j in range(1, k+1):\n",
        "#         s[j, j, sum([i*i for i in range(1, j+1)])] = 1\n",
        "#     for j in range(1, k+1):\n",
        "#         for i in range(j+1, n+1):\n",
        "#             s[i, j] = s[i-1, j]\n",
        "#             s[i, j, i*i:] += s[i-1, j-1, :-i*i]\n",
        "\n",
        "#     return s[n, k]"
      ],
      "metadata": {
        "collapsed": true,
        "id": "0AOLGEfjFNnE"
      },
      "execution_count": 2,
      "outputs": []
    },
    {
      "cell_type": "code",
      "source": [
        "import numpy as np\n",
        "\n",
        "def solve_dynamic(N, K):\n",
        "    max_sum = sum(i*i for i in range(K+1, N+1)) + 1\n",
        "    # starting row is k=0\n",
        "    previous = np.zeros((N+1, max_sum), dtype=int)\n",
        "    previous[:, 0] = 1\n",
        "\n",
        "    for k in range(1, K+1):\n",
        "        current = np.zeros((N+1, max_sum), dtype=int)\n",
        "        # base case n=k\n",
        "        current[k, sum(i*i for i in range(1, k+1))] = 1\n",
        "        for n in range(k+1, k+K+1):\n",
        "            current[n] = current[n-1]\n",
        "            current[n, n*n:] += previous[n-1, :-n*n]\n",
        "        previous = current\n",
        "\n",
        "    return current[N]\n"
      ],
      "metadata": {
        "id": "7gzsHBjbQoYs"
      },
      "execution_count": 21,
      "outputs": []
    },
    {
      "cell_type": "code",
      "source": [
        "import time\n",
        "t = time.time()\n",
        "print(np.where(solve_dynamic(100, 50) == 1)[0].sum())\n",
        "print(time.time()-t)"
      ],
      "metadata": {
        "colab": {
          "base_uri": "https://localhost:8080/"
        },
        "id": "RTOw6ZncFPgT",
        "outputId": "201161a6-b94b-46d7-8a91-4e65e7769bc1"
      },
      "execution_count": 22,
      "outputs": [
        {
          "output_type": "stream",
          "name": "stdout",
          "text": [
            "115039000\n",
            "6.138242721557617\n"
          ]
        }
      ]
    },
    {
      "cell_type": "markdown",
      "source": [
        "Some early plotting and testing to get ideas"
      ],
      "metadata": {
        "id": "qwK3ijwrbtB5"
      }
    },
    {
      "cell_type": "code",
      "execution_count": 25,
      "metadata": {
        "colab": {
          "base_uri": "https://localhost:8080/"
        },
        "id": "YM7lZI9wAMCJ",
        "outputId": "205c317c-bde7-4a96-8326-d8d410817778",
        "collapsed": true
      },
      "outputs": [
        {
          "output_type": "execute_result",
          "data": {
            "text/plain": [
              "[1, 4, 9, 16, 25, 36, 49, 64, 81, 100]"
            ]
          },
          "metadata": {},
          "execution_count": 25
        }
      ],
      "source": [
        "n=10\n",
        "s = [i*i for i in range(1, n+1)]\n",
        "s"
      ]
    },
    {
      "cell_type": "code",
      "source": [
        "import itertools\n",
        "\n",
        "sum_count = {}\n",
        "for comb in itertools.combinations(s, n//2):\n",
        "    sum_count[sum(comb)] = sum_count.get(sum(comb), 0) + 1\n",
        "sum_count = sorted(sum_count.items())\n",
        "\n",
        "from matplotlib import pyplot as plt\n",
        "plt.plot([i for i, x in enumerate(sum_count)], [v for k, v in sum_count])"
      ],
      "metadata": {
        "colab": {
          "base_uri": "https://localhost:8080/",
          "height": 448
        },
        "id": "QaZhmP3nAej9",
        "outputId": "f0fdb652-1e2d-4492-8169-b43d13fc1560"
      },
      "execution_count": 26,
      "outputs": [
        {
          "output_type": "execute_result",
          "data": {
            "text/plain": [
              "[<matplotlib.lines.Line2D at 0x78dab7aface0>]"
            ]
          },
          "metadata": {},
          "execution_count": 26
        },
        {
          "output_type": "display_data",
          "data": {
            "text/plain": [
              "<Figure size 640x480 with 1 Axes>"
            ],
            "image/png": "[encoded data removed]"
          },
          "metadata": {}
        }
      ]
    },
    {
      "cell_type": "code",
      "source": [
        "unique_sums = [k for k, v in sum_count if v == 1]\n",
        "(sorted(unique_sums))"
      ],
      "metadata": {
        "colab": {
          "base_uri": "https://localhost:8080/"
        },
        "id": "6wk2HO-vAofZ",
        "outputId": "f39097b0-ff45-470e-ee8a-4404c0dad646",
        "collapsed": true
      },
      "execution_count": 27,
      "outputs": [
        {
          "output_type": "execute_result",
          "data": {
            "text/plain": [
              "[55,\n",
              " 66,\n",
              " 75,\n",
              " 79,\n",
              " 82,\n",
              " 87,\n",
              " 88,\n",
              " 90,\n",
              " 94,\n",
              " 95,\n",
              " 99,\n",
              " 100,\n",
              " 106,\n",
              " 110,\n",
              " 118,\n",
              " 121,\n",
              " 123,\n",
              " 126,\n",
              " 129,\n",
              " 131,\n",
              " 132,\n",
              " 134,\n",
              " 144,\n",
              " 145,\n",
              " 147,\n",
              " 148,\n",
              " 152,\n",
              " 156,\n",
              " 157,\n",
              " 158,\n",
              " 160,\n",
              " 167,\n",
              " 168,\n",
              " 169,\n",
              " 170,\n",
              " 172,\n",
              " 176,\n",
              " 181,\n",
              " 184,\n",
              " 185,\n",
              " 192,\n",
              " 193,\n",
              " 200,\n",
              " 201,\n",
              " 204,\n",
              " 209,\n",
              " 213,\n",
              " 215,\n",
              " 216,\n",
              " 217,\n",
              " 218,\n",
              " 225,\n",
              " 227,\n",
              " 228,\n",
              " 229,\n",
              " 233,\n",
              " 237,\n",
              " 238,\n",
              " 240,\n",
              " 241,\n",
              " 251,\n",
              " 253,\n",
              " 254,\n",
              " 256,\n",
              " 259,\n",
              " 262,\n",
              " 264,\n",
              " 267,\n",
              " 275,\n",
              " 279,\n",
              " 285,\n",
              " 286,\n",
              " 290,\n",
              " 291,\n",
              " 295,\n",
              " 297,\n",
              " 298,\n",
              " 303,\n",
              " 306,\n",
              " 310,\n",
              " 319,\n",
              " 330]"
            ]
          },
          "metadata": {},
          "execution_count": 27
        }
      ]
    },
    {
      "cell_type": "code",
      "source": [
        "def sum_unique_combinations(n):\n",
        "    s = [i*i for i in range(1, n+1)]\n",
        "    sum_count = {}\n",
        "    for comb in itertools.combinations(s, n//2):\n",
        "        sum_count[sum(comb)] = sum_count.get(sum(comb), 0) + 1\n",
        "\n",
        "    unique_sums = [k for k, v in sum_count.items() if v == 1]\n",
        "    return sum(unique_sums)\n",
        "\n",
        "for i in range(100):\n",
        "    print(i, sum_unique_combinations(i))"
      ],
      "metadata": {
        "colab": {
          "base_uri": "https://localhost:8080/"
        },
        "id": "9psce949BfgN",
        "outputId": "7e5d305c-39bf-4b4d-a0df-be8dbc0f76b7",
        "collapsed": true
      },
      "execution_count": null,
      "outputs": [
        {
          "output_type": "stream",
          "name": "stdout",
          "text": [
            "0 0\n",
            "1 0\n",
            "2 5\n",
            "3 14\n",
            "4 90\n",
            "5 220\n",
            "6 910\n",
            "7 1976\n",
            "8 5100\n",
            "9 8336\n",
            "10 15785\n",
            "11 22331\n",
            "12 31850\n",
            "13 40925\n",
            "14 49735\n",
            "15 58848\n",
            "16 74800\n",
            "17 86011\n",
            "18 107559\n",
            "19 123964\n",
            "20 152110\n",
            "21 181504\n",
            "22 220110\n",
            "23 293366\n",
            "24 357700\n",
            "25 393982\n",
            "26 458874\n"
          ]
        }
      ]
    },
    {
      "cell_type": "code",
      "source": [],
      "metadata": {
        "id": "jaJFREVgMZNs"
      },
      "execution_count": null,
      "outputs": []
    }
  ]
}