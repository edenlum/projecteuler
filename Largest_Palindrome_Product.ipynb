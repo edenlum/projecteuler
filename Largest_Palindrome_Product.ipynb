{
  "nbformat": 4,
  "nbformat_minor": 0,
  "metadata": {
    "colab": {
      "provenance": [],
      "authorship_tag": "ABX9TyMAEXMpt8PqMwKZkbrQ4IMG",
      "include_colab_link": true
    },
    "kernelspec": {
      "name": "python3",
      "display_name": "Python 3"
    },
    "language_info": {
      "name": "python"
    }
  },
  "cells": [
    {
      "cell_type": "markdown",
      "metadata": {
        "id": "view-in-github",
        "colab_type": "text"
      },
      "source": [
        "<a href=\"https://colab.research.google.com/github/edenlum/projecteuler/blob/main/Largest_Palindrome_Product.ipynb\" target=\"_parent\"><img src=\"https://colab.research.google.com/assets/colab-badge.svg\" alt=\"Open In Colab\"/></a>"
      ]
    },
    {
      "cell_type": "markdown",
      "source": [
        "https://projecteuler.net/problem=4"
      ],
      "metadata": {
        "id": "ZWMAxp40JiuU"
      }
    },
    {
      "cell_type": "markdown",
      "source": [
        "<p>A palindromic number reads the same both ways. The largest palindrome made from the product of two $2$-digit numbers is $9009 = 91 \\times 99$.</p>\n",
        "<p>Find the largest palindrome made from the product of two $3$-digit numbers.</p>\n"
      ],
      "metadata": {
        "id": "PyzoWdKrJgd2"
      }
    },
    {
      "cell_type": "markdown",
      "source": [
        "Let's start from product = abccba = 999999\n",
        "We will check if this is possible, if not we will decrease c, then b then a"
      ],
      "metadata": {
        "id": "sSasGNioLO-p"
      }
    },
    {
      "cell_type": "code",
      "source": [
        "def options(condition):\n",
        "    for x in range(10):\n",
        "        for y in range(10):\n",
        "            if condition(x, y):\n",
        "                yield x, y\n",
        "\n",
        "\n",
        "found = False\n",
        "for a in range(9, -1, -1):\n",
        "    for b in range(9, -1, -1):\n",
        "        for c in range(9, -1, -1):\n",
        "            num = a*100000+b*10000+c*1000+c*100+b*10+a\n",
        "            for z1, z2 in options(lambda x, y: x*y % 10 == a):\n",
        "                for y1, y2 in options(lambda y1, y2: (z1*z2 // 10 + y1*z2 % 10 + y2*z1 % 10) % 10 == b):\n",
        "                    for x1, x2 in options(lambda x1, x2: ((z1*z2 // 10 + y1*z2 + y2*z1) // 10 + z1*x2 % 10 + z2*x1 % 10 + y1*y2 % 10) % 10 == c):\n",
        "                        three1 = (100*x1 + 10*y1 + z1)\n",
        "                        three2 = (100*x2 + 10*y2 + z2)\n",
        "                        prod = three1*three2\n",
        "                        if num == prod:\n",
        "                            print(num, three1, three2)\n",
        "                            found = True\n",
        "                            break\n",
        "        if found:\n",
        "            break\n",
        "    if found:\n",
        "        break\n",
        ""
      ],
      "metadata": {
        "colab": {
          "base_uri": "https://localhost:8080/"
        },
        "id": "hGAcsjnMJmWg",
        "outputId": "fb52f542-a046-4b54-af0f-b6f958d7f766"
      },
      "execution_count": 12,
      "outputs": [
        {
          "output_type": "stream",
          "name": "stdout",
          "text": [
            "906609 913 993\n",
            "906609 993 913\n"
          ]
        }
      ]
    },
    {
      "cell_type": "code",
      "source": [],
      "metadata": {
        "id": "GPqDj5p_J1_o"
      },
      "execution_count": null,
      "outputs": []
    }
  ]
}