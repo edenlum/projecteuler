{
  "nbformat": 4,
  "nbformat_minor": 0,
  "metadata": {
    "colab": {
      "provenance": [],
      "authorship_tag": "ABX9TyMicx0URWajYZtcM9IK50WL",
      "include_colab_link": true
    },
    "kernelspec": {
      "name": "python3",
      "display_name": "Python 3"
    },
    "language_info": {
      "name": "python"
    }
  },
  "cells": [
    {
      "cell_type": "markdown",
      "metadata": {
        "id": "view-in-github",
        "colab_type": "text"
      },
      "source": [
        "<a href=\"https://colab.research.google.com/github/edenlum/projecteuler/blob/main/16_Power_Digit_Sum.ipynb\" target=\"_parent\"><img src=\"https://colab.research.google.com/assets/colab-badge.svg\" alt=\"Open In Colab\"/></a>"
      ]
    },
    {
      "cell_type": "markdown",
      "source": [
        "https://projecteuler.net/problem=16"
      ],
      "metadata": {
        "id": "yp7Y7cWYN1PO"
      }
    },
    {
      "cell_type": "markdown",
      "source": [
        "<p>$2^{15} = 32768$ and the sum of its digits is $3 + 2 + 7 + 6 + 8 = 26$.</p>\n",
        "<p>What is the sum of the digits of the number $2^{1000}$?</p>\n"
      ],
      "metadata": {
        "id": "2CaFP-FhNzwy"
      }
    },
    {
      "cell_type": "code",
      "source": [
        "n = 2**1000\n",
        "s = 0\n",
        "for j in str(n):\n",
        "  s += int(j)\n",
        "print(n, s)"
      ],
      "metadata": {
        "colab": {
          "base_uri": "https://localhost:8080/"
        },
        "id": "EUD_aKHxN4De",
        "outputId": "06460de1-adca-4998-be61-5c715d705be0"
      },
      "execution_count": 2,
      "outputs": [
        {
          "output_type": "stream",
          "name": "stdout",
          "text": [
            "10715086071862673209484250490600018105614048117055336074437503883703510511249361224931983788156958581275946729175531468251871452856923140435984577574698574803934567774824230985421074605062371141877954182153046474983581941267398767559165543946077062914571196477686542167660429831652624386837205668069376 1366\n"
          ]
        }
      ]
    },
    {
      "cell_type": "code",
      "source": [],
      "metadata": {
        "id": "Mb-4RM15OKkA"
      },
      "execution_count": null,
      "outputs": []
    }
  ]
}