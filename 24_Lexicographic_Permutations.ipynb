{
  "nbformat": 4,
  "nbformat_minor": 0,
  "metadata": {
    "colab": {
      "provenance": [],
      "authorship_tag": "ABX9TyN6B4zRJwQ4sJjHfVQGZ0t5",
      "include_colab_link": true
    },
    "kernelspec": {
      "name": "python3",
      "display_name": "Python 3"
    },
    "language_info": {
      "name": "python"
    }
  },
  "cells": [
    {
      "cell_type": "markdown",
      "metadata": {
        "id": "view-in-github",
        "colab_type": "text"
      },
      "source": [
        "<a href=\"https://colab.research.google.com/github/edenlum/projecteuler/blob/main/24_Lexicographic_Permutations.ipynb\" target=\"_parent\"><img src=\"https://colab.research.google.com/assets/colab-badge.svg\" alt=\"Open In Colab\"/></a>"
      ]
    },
    {
      "cell_type": "markdown",
      "source": [
        "https://projecteuler.net/problem=24"
      ],
      "metadata": {
        "id": "X0Q9T42AuesU"
      }
    },
    {
      "cell_type": "markdown",
      "source": [
        "<p>A permutation is an ordered arrangement of objects. For example, 3124 is one possible permutation of the digits 1, 2, 3 and 4. If all of the permutations are listed numerically or alphabetically, we call it lexicographic order. The lexicographic permutations of 0, 1 and 2 are:</p>\n",
        "<p class=\"center\">012   021   102   120   201   210</p>\n",
        "<p>What is the millionth lexicographic permutation of the digits 0, 1, 2, 3, 4, 5, 6, 7, 8 and 9?</p>\n"
      ],
      "metadata": {
        "id": "5YkMaA17udmr"
      }
    },
    {
      "cell_type": "code",
      "source": [
        "def num_permutations(num_items):\n",
        "    num = 1\n",
        "    for i in range(num_items):\n",
        "        num *= (i + 1)\n",
        "    return num\n",
        "\n",
        "def find_nth_permutation(items, n):\n",
        "    if n > num_permutations(len(items)):\n",
        "        return None\n",
        "    result = []\n",
        "    num_items = len(items)\n",
        "    for i in range(len(items)):\n",
        "        num_permutations_i = num_permutations(num_items - i - 1) # number of permutations for digits not set\n",
        "        result.append(items[n // num_permutations_i])\n",
        "        print(\"POP:\", items.pop(n // num_permutations_i))\n",
        "        n -= (n // num_permutations_i) * num_permutations_i\n",
        "    return result\n",
        "\n",
        "items = [0, 1, 2, 3, 4, 5, 6, 7, 8, 9]\n",
        "n = 999999\n",
        "print(find_nth_permutation(items, n))"
      ],
      "metadata": {
        "colab": {
          "base_uri": "https://localhost:8080/"
        },
        "id": "GbaO_W0RueAG",
        "outputId": "c213f53e-b64c-4427-ae07-e79f2410eddf"
      },
      "execution_count": 16,
      "outputs": [
        {
          "output_type": "stream",
          "name": "stdout",
          "text": [
            "POP: 2\n",
            "POP: 7\n",
            "POP: 8\n",
            "POP: 3\n",
            "POP: 9\n",
            "POP: 1\n",
            "POP: 5\n",
            "POP: 4\n",
            "POP: 6\n",
            "POP: 0\n",
            "[2, 7, 8, 3, 9, 1, 5, 4, 6, 0]\n"
          ]
        }
      ]
    }
  ]
}