{
  "nbformat": 4,
  "nbformat_minor": 0,
  "metadata": {
    "colab": {
      "provenance": [],
      "authorship_tag": "ABX9TyMIiLgNgWIQDO8DBIFM5f6b",
      "include_colab_link": true
    },
    "kernelspec": {
      "name": "python3",
      "display_name": "Python 3"
    },
    "language_info": {
      "name": "python"
    }
  },
  "cells": [
    {
      "cell_type": "markdown",
      "metadata": {
        "id": "view-in-github",
        "colab_type": "text"
      },
      "source": [
        "<a href=\"https://colab.research.google.com/github/edenlum/projecteuler/blob/main/10001st_Prime.ipynb\" target=\"_parent\"><img src=\"https://colab.research.google.com/assets/colab-badge.svg\" alt=\"Open In Colab\"/></a>"
      ]
    },
    {
      "cell_type": "markdown",
      "source": [
        "https://projecteuler.net/problem=7"
      ],
      "metadata": {
        "id": "OVAeUQR3jxfv"
      }
    },
    {
      "cell_type": "markdown",
      "source": [
        "<p>By listing the first six prime numbers: $2, 3, 5, 7, 11$, and $13$, we can see that the $6$th prime is $13$.</p>\n",
        "<p>What is the $10\\,001$st prime number?</p>\n"
      ],
      "metadata": {
        "id": "ca6cOkWYj0Gy"
      }
    },
    {
      "cell_type": "code",
      "source": [
        "import numpy as np\n",
        "\n",
        "ith = 10_001\n",
        "primes = np.array([2, 3])\n",
        "n = 5\n",
        "while len(primes) < ith:\n",
        "    if np.all(n % primes != 0):\n",
        "        primes = np.append(primes, n)\n",
        "    n += 2\n",
        "print(primes[-1])"
      ],
      "metadata": {
        "colab": {
          "base_uri": "https://localhost:8080/"
        },
        "id": "VBAjBRiZj0Zp",
        "outputId": "a0f1c5c3-2fe6-41b9-d378-d58182af16b9"
      },
      "execution_count": 5,
      "outputs": [
        {
          "output_type": "stream",
          "name": "stdout",
          "text": [
            "104743\n"
          ]
        }
      ]
    },
    {
      "cell_type": "code",
      "source": [],
      "metadata": {
        "id": "WIksquqSlSug"
      },
      "execution_count": null,
      "outputs": []
    }
  ]
}