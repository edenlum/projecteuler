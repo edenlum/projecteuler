{
  "nbformat": 4,
  "nbformat_minor": 0,
  "metadata": {
    "colab": {
      "provenance": [],
      "authorship_tag": "ABX9TyPxaEJHulUDGM6m8PTlxudl",
      "include_colab_link": true
    },
    "kernelspec": {
      "name": "python3",
      "display_name": "Python 3"
    },
    "language_info": {
      "name": "python"
    }
  },
  "cells": [
    {
      "cell_type": "markdown",
      "metadata": {
        "id": "view-in-github",
        "colab_type": "text"
      },
      "source": [
        "<a href=\"https://colab.research.google.com/github/edenlum/projecteuler/blob/main/Smallest_Multiple.ipynb\" target=\"_parent\"><img src=\"https://colab.research.google.com/assets/colab-badge.svg\" alt=\"Open In Colab\"/></a>"
      ]
    },
    {
      "cell_type": "markdown",
      "source": [
        "https://projecteuler.net/problem=5"
      ],
      "metadata": {
        "id": "x5-YHgkgdQ1t"
      }
    },
    {
      "cell_type": "markdown",
      "source": [
        "<p>$2520$ is the smallest number that can be divided by each of the numbers from $1$ to $10$ without any remainder.</p>\n",
        "<p>What is the smallest positive number that is <strong class=\"tooltip\">evenly divisible<span class=\"tooltiptext\">divisible with no remainder</span></strong> by all of the numbers from $1$ to $20$?</p>\n"
      ],
      "metadata": {
        "id": "pTz_lYJddOSQ"
      }
    },
    {
      "cell_type": "markdown",
      "source": [
        "We will construct the number as a multiple of primes\n",
        "\n",
        "It must include all primes:\n",
        "2, 3, 5, 7, 11, 13, 17, 19\n",
        "\n",
        "It has to be divisable by 16 so the minimum exponent of 2 is 4.\n",
        "\n",
        "It has to be divisable by 9 so the minimum exponent of 3 is 2.\n",
        "\n",
        "The rest of the numbers are a composition of others we included so the solution is:"
      ],
      "metadata": {
        "id": "ovLkfm8GdSK6"
      }
    },
    {
      "cell_type": "code",
      "source": [
        "(2**4)*(3**2)*5*7*11*13*17*19"
      ],
      "metadata": {
        "colab": {
          "base_uri": "https://localhost:8080/"
        },
        "id": "_9kEE5_2d26b",
        "outputId": "064509ab-db89-41f5-c05f-0da5634b6038"
      },
      "execution_count": 2,
      "outputs": [
        {
          "output_type": "execute_result",
          "data": {
            "text/plain": [
              "232792560"
            ]
          },
          "metadata": {},
          "execution_count": 2
        }
      ]
    },
    {
      "cell_type": "code",
      "source": [],
      "metadata": {
        "id": "WswMGQbId5Rt"
      },
      "execution_count": null,
      "outputs": []
    }
  ]
}