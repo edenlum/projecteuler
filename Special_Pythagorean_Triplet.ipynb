{
  "nbformat": 4,
  "nbformat_minor": 0,
  "metadata": {
    "colab": {
      "provenance": [],
      "authorship_tag": "ABX9TyOCvgM+ssdTeMfe1CfrSusb",
      "include_colab_link": true
    },
    "kernelspec": {
      "name": "python3",
      "display_name": "Python 3"
    },
    "language_info": {
      "name": "python"
    }
  },
  "cells": [
    {
      "cell_type": "markdown",
      "metadata": {
        "id": "view-in-github",
        "colab_type": "text"
      },
      "source": [
        "<a href=\"https://colab.research.google.com/github/edenlum/projecteuler/blob/main/Special_Pythagorean_Triplet.ipynb\" target=\"_parent\"><img src=\"https://colab.research.google.com/assets/colab-badge.svg\" alt=\"Open In Colab\"/></a>"
      ]
    },
    {
      "cell_type": "markdown",
      "source": [
        "https://projecteuler.net/problem=9"
      ],
      "metadata": {
        "id": "e6JIt9tC2FuK"
      }
    },
    {
      "cell_type": "markdown",
      "source": [
        "<p>A Pythagorean triplet is a set of three natural numbers, $a \\lt b \\lt c$, for which,\n",
        "$$a^2 + b^2 = c^2.$$</p>\n",
        "<p>For example, $3^2 + 4^2 = 9 + 16 = 25 = 5^2$.</p>\n",
        "<p>There exists exactly one Pythagorean triplet for which $a + b + c = 1000$.<br>Find the product $abc$.</p>\n"
      ],
      "metadata": {
        "id": "uU9dk9Fw2Ds4"
      }
    },
    {
      "cell_type": "code",
      "source": [
        "for a in range(1, 1000):\n",
        "    for b in range(a, 1000):\n",
        "        c = 1000 - a - b\n",
        "        if a**2 + b**2 == c**2:\n",
        "            print(a*b*c)"
      ],
      "metadata": {
        "colab": {
          "base_uri": "https://localhost:8080/"
        },
        "id": "1d6YX2GU2Hb3",
        "outputId": "150b68e4-5157-4bd6-dcd2-e2b8125d0290"
      },
      "execution_count": 1,
      "outputs": [
        {
          "output_type": "stream",
          "name": "stdout",
          "text": [
            "31875000\n"
          ]
        }
      ]
    },
    {
      "cell_type": "code",
      "source": [],
      "metadata": {
        "id": "w8jKiQFL5idu"
      },
      "execution_count": null,
      "outputs": []
    }
  ]
}