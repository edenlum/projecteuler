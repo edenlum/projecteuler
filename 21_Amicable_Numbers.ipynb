{
  "nbformat": 4,
  "nbformat_minor": 0,
  "metadata": {
    "colab": {
      "provenance": [],
      "authorship_tag": "ABX9TyMBzdqdyykLR7TPlhlIya4I",
      "include_colab_link": true
    },
    "kernelspec": {
      "name": "python3",
      "display_name": "Python 3"
    },
    "language_info": {
      "name": "python"
    }
  },
  "cells": [
    {
      "cell_type": "markdown",
      "metadata": {
        "id": "view-in-github",
        "colab_type": "text"
      },
      "source": [
        "<a href=\"https://colab.research.google.com/github/edenlum/projecteuler/blob/main/21_Amicable_Numbers.ipynb\" target=\"_parent\"><img src=\"https://colab.research.google.com/assets/colab-badge.svg\" alt=\"Open In Colab\"/></a>"
      ]
    },
    {
      "cell_type": "markdown",
      "source": [
        "https://projecteuler.net/problem=21"
      ],
      "metadata": {
        "id": "qzybQG5uJ_2c"
      }
    },
    {
      "cell_type": "markdown",
      "source": [
        "<p>Let $d(n)$ be defined as the sum of proper divisors of $n$ (numbers less than $n$ which divide evenly into $n$).<br>\n",
        "If $d(a) = b$ and $d(b) = a$, where $a \\ne b$, then $a$ and $b$ are an amicable pair and each of $a$ and $b$ are called amicable numbers.</p>\n",
        "<p>For example, the proper divisors of $220$ are $1, 2, 4, 5, 10, 11, 20, 22, 44, 55$ and $110$; therefore $d(220) = 284$. The proper divisors of $284$ are $1, 2, 4, 71$ and $142$; so $d(284) = 220$.</p>\n",
        "<p>Evaluate the sum of all the amicable numbers under $10000$.</p>"
      ],
      "metadata": {
        "id": "PLxjQiLEJ_43"
      }
    },
    {
      "cell_type": "code",
      "source": [
        "def d(n, d_dict={}):\n",
        "    if n not in d_dict:\n",
        "        d_dict[n] = sum(i for i in range(1, n//2+1) if n % i == 0)\n",
        "    return d_dict[n]\n",
        "\n",
        "d_dict = {}\n",
        "amicable_numbers = []\n",
        "for i in range(10000):\n",
        "    if i in amicable_numbers:\n",
        "        continue\n",
        "    d_i = d(i, d_dict)\n",
        "    if d(d_i, d_dict) == i and i != d_i:\n",
        "        amicable_numbers.append(i)\n",
        "        amicable_numbers.append(d_i)\n",
        "print(amicable_numbers)\n",
        "print(sum(amicable_numbers))"
      ],
      "metadata": {
        "colab": {
          "base_uri": "https://localhost:8080/"
        },
        "id": "fGd4Iqh7KIyE",
        "outputId": "ca3b0e35-580a-4138-e8c3-4e2d827cebeb"
      },
      "execution_count": 10,
      "outputs": [
        {
          "output_type": "stream",
          "name": "stdout",
          "text": [
            "[220, 284, 1184, 1210, 2620, 2924, 5020, 5564, 6232, 6368]\n",
            "31626\n"
          ]
        }
      ]
    },
    {
      "cell_type": "code",
      "source": [],
      "metadata": {
        "id": "PmYiK8x-LFHg"
      },
      "execution_count": null,
      "outputs": []
    }
  ]
}