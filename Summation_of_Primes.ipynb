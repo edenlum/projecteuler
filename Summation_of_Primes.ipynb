{
  "nbformat": 4,
  "nbformat_minor": 0,
  "metadata": {
    "colab": {
      "provenance": [],
      "authorship_tag": "ABX9TyNWFO4lhf0IKRWBDCktzhgV",
      "include_colab_link": true
    },
    "kernelspec": {
      "name": "python3",
      "display_name": "Python 3"
    },
    "language_info": {
      "name": "python"
    }
  },
  "cells": [
    {
      "cell_type": "markdown",
      "metadata": {
        "id": "view-in-github",
        "colab_type": "text"
      },
      "source": [
        "<a href=\"https://colab.research.google.com/github/edenlum/projecteuler/blob/main/Summation_of_Primes.ipynb\" target=\"_parent\"><img src=\"https://colab.research.google.com/assets/colab-badge.svg\" alt=\"Open In Colab\"/></a>"
      ]
    },
    {
      "cell_type": "markdown",
      "source": [
        "https://projecteuler.net/problem=10"
      ],
      "metadata": {
        "id": "pgu9yRqX58jn"
      }
    },
    {
      "cell_type": "markdown",
      "source": [
        "<p>The sum of the primes below $10$ is $2 + 3 + 5 + 7 = 17$.</p>\n",
        "<p>Find the sum of all the primes below two million.</p>\n",
        "\n",
        "\n"
      ],
      "metadata": {
        "id": "692Jj83354Xs"
      }
    },
    {
      "cell_type": "code",
      "source": [
        "import numpy as np\n",
        "\n",
        "is_prime = np.zeros(2_000_000)\n",
        "for i in range(2, 1_000_000):\n",
        "    if is_prime[i] == 0:\n",
        "        is_prime[i*i::i] = 1\n",
        "\n",
        "np.sum(np.where(is_prime == 0)) - 1 # subtract 1 because this include 1 as prime"
      ],
      "metadata": {
        "colab": {
          "base_uri": "https://localhost:8080/"
        },
        "id": "52hY0H4O582p",
        "outputId": "95c791f7-c237-4ee8-8759-7415fdb04815"
      },
      "execution_count": 6,
      "outputs": [
        {
          "output_type": "execute_result",
          "data": {
            "text/plain": [
              "142913828922"
            ]
          },
          "metadata": {},
          "execution_count": 6
        }
      ]
    },
    {
      "cell_type": "code",
      "source": [],
      "metadata": {
        "id": "q1n76M-Q6aiR"
      },
      "execution_count": null,
      "outputs": []
    }
  ]
}