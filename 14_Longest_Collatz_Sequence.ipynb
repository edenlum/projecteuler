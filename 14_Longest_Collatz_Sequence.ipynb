{
  "nbformat": 4,
  "nbformat_minor": 0,
  "metadata": {
    "colab": {
      "provenance": [],
      "authorship_tag": "ABX9TyNSrJBoMQfU3T3PbnFrLMXo",
      "include_colab_link": true
    },
    "kernelspec": {
      "name": "python3",
      "display_name": "Python 3"
    },
    "language_info": {
      "name": "python"
    }
  },
  "cells": [
    {
      "cell_type": "markdown",
      "metadata": {
        "id": "view-in-github",
        "colab_type": "text"
      },
      "source": [
        "<a href=\"https://colab.research.google.com/github/edenlum/projecteuler/blob/main/14_Longest_Collatz_Sequence.ipynb\" target=\"_parent\"><img src=\"https://colab.research.google.com/assets/colab-badge.svg\" alt=\"Open In Colab\"/></a>"
      ]
    },
    {
      "cell_type": "markdown",
      "source": [
        "https://projecteuler.net/problem=14"
      ],
      "metadata": {
        "id": "c73nD5deDKj3"
      }
    },
    {
      "cell_type": "markdown",
      "source": [
        "<p>The following iterative sequence is defined for the set of positive integers:</p>\n",
        "<ul style=\"list-style-type:none;\">\n",
        "<li>$n \\to n/2$ ($n$ is even)</li>\n",
        "<li>$n \\to 3n + 1$ ($n$ is odd)</li></ul>\n",
        "<p>Using the rule above and starting with $13$, we generate the following sequence:\n",
        "$$13 \\to 40 \\to 20 \\to 10 \\to 5 \\to 16 \\to 8 \\to 4 \\to 2 \\to 1.$$</p>\n",
        "<p>It can be seen that this sequence (starting at $13$ and finishing at $1$) contains $10$ terms. Although it has not been proved yet (Collatz Problem), it is thought that all starting numbers finish at $1$.</p>\n",
        "<p>Which starting number, under one million, produces the longest chain?</p>\n",
        "<p class=\"note\"><b>NOTE:</b> Once the chain starts the terms are allowed to go above one million.</p>\n"
      ],
      "metadata": {
        "id": "w20I_6AdDHgZ"
      }
    },
    {
      "cell_type": "code",
      "source": [
        "chain_len = {}\n",
        "chain_len[1] = 1\n",
        "i = 2\n",
        "\n",
        "def collatz_len(n):\n",
        "    if n in chain_len:\n",
        "        return chain_len[n]\n",
        "    if n % 2 == 0:\n",
        "        j = n // 2\n",
        "    else:\n",
        "        j = 3 * n + 1\n",
        "    chain_len[n] = collatz_len(j) + 1\n",
        "    return chain_len[n]\n",
        "\n",
        "max_chain = 1, 1\n",
        "for i in range(2, 1000000):\n",
        "    i_len = collatz_len(i)\n",
        "    if i_len > max_chain[1]:\n",
        "        max_chain = i, i_len\n",
        "print(max_chain)"
      ],
      "metadata": {
        "colab": {
          "base_uri": "https://localhost:8080/"
        },
        "id": "qPbXrNfQDLeS",
        "outputId": "ee4cc30a-3f5a-4047-e05c-ae8f572bed82"
      },
      "execution_count": 1,
      "outputs": [
        {
          "output_type": "stream",
          "name": "stdout",
          "text": [
            "(837799, 525)\n"
          ]
        }
      ]
    },
    {
      "cell_type": "code",
      "source": [],
      "metadata": {
        "id": "uGHFGgUNFoPw"
      },
      "execution_count": null,
      "outputs": []
    }
  ]
}