{
  "nbformat": 4,
  "nbformat_minor": 0,
  "metadata": {
    "colab": {
      "provenance": [],
      "authorship_tag": "ABX9TyNWFeuGylkwve/fjocwwurs",
      "include_colab_link": true
    },
    "kernelspec": {
      "name": "python3",
      "display_name": "Python 3"
    },
    "language_info": {
      "name": "python"
    }
  },
  "cells": [
    {
      "cell_type": "markdown",
      "metadata": {
        "id": "view-in-github",
        "colab_type": "text"
      },
      "source": [
        "<a href=\"https://colab.research.google.com/github/edenlum/projecteuler/blob/main/18_Maximum_Path_Sum_I.ipynb\" target=\"_parent\"><img src=\"https://colab.research.google.com/assets/colab-badge.svg\" alt=\"Open In Colab\"/></a>"
      ]
    },
    {
      "cell_type": "markdown",
      "source": [
        "https://projecteuler.net/problem=18"
      ],
      "metadata": {
        "id": "QNtn21VGlYb0"
      }
    },
    {
      "cell_type": "markdown",
      "source": [
        "<p>By starting at the top of the triangle below and moving to adjacent numbers on the row below, the maximum total from top to bottom is $23$.</p>\n",
        "<p class=\"monospace center\"><span class=\"red\"><b>3</b></span><br><span class=\"red\"><b>7</b></span> 4<br>\n",
        "2 <span class=\"red\"><b>4</b></span> 6<br>\n",
        "8 5 <span class=\"red\"><b>9</b></span> 3</p>\n",
        "<p>That is, $3 + 7 + 4 + 9 = 23$.</p>\n",
        "<p>Find the maximum total from top to bottom of the triangle below:</p>\n",
        "<p class=\"monospace center\">75<br>\n",
        "95 64<br>\n",
        "17 47 82<br>\n",
        "18 35 87 10<br>\n",
        "20 04 82 47 65<br>\n",
        "19 01 23 75 03 34<br>\n",
        "88 02 77 73 07 63 67<br>\n",
        "99 65 04 28 06 16 70 92<br>\n",
        "41 41 26 56 83 40 80 70 33<br>\n",
        "41 48 72 33 47 32 37 16 94 29<br>\n",
        "53 71 44 65 25 43 91 52 97 51 14<br>\n",
        "70 11 33 28 77 73 17 78 39 68 17 57<br>\n",
        "91 71 52 38 17 14 91 43 58 50 27 29 48<br>\n",
        "63 66 04 68 89 53 67 30 73 16 69 87 40 31<br>\n",
        "04 62 98 27 23 09 70 98 73 93 38 53 60 04 23</p>\n",
        "<p class=\"note\"><b>NOTE:</b> As there are only $16384$ routes, it is possible to solve this problem by trying every route. However, <a href=\"problem=67\">Problem 67</a>, is the same challenge with a triangle containing one-hundred rows; it cannot be solved by brute force, and requires a clever method! ;o)</p>"
      ],
      "metadata": {
        "id": "jVupfZtulaoq"
      }
    },
    {
      "cell_type": "code",
      "source": [
        "# we will \"collpase\" rows from bottom to top.\n",
        "# from every number in the second to last row, the route is simply the larger of the two adjacent numbers in the last row\n",
        "# then every number becomes the sum of the route recursively\n",
        "\n",
        "pyramid = \"\"\"75\n",
        "95 64\n",
        "17 47 82\n",
        "18 35 87 10\n",
        "20 04 82 47 65\n",
        "19 01 23 75 03 34\n",
        "88 02 77 73 07 63 67\n",
        "99 65 04 28 06 16 70 92\n",
        "41 41 26 56 83 40 80 70 33\n",
        "41 48 72 33 47 32 37 16 94 29\n",
        "53 71 44 65 25 43 91 52 97 51 14\n",
        "70 11 33 28 77 73 17 78 39 68 17 57\n",
        "91 71 52 38 17 14 91 43 58 50 27 29 48\n",
        "63 66 04 68 89 53 67 30 73 16 69 87 40 31\n",
        "04 62 98 27 23 09 70 98 73 93 38 53 60 04 23\"\"\"\n",
        "pyramid = pyramid.split('\\n')\n",
        "for i in range(len(pyramid)):\n",
        "    pyramid[i] = pyramid[i].split(' ')\n",
        "    for j in range(len(pyramid[i])):\n",
        "        pyramid[i][j] = int(pyramid[i][j])\n",
        "\n",
        "for row in range(len(pyramid)-2, -1, -1):\n",
        "    for i in range(len(pyramid[row])):\n",
        "        pyramid[row][i] += max(pyramid[row+1][i], pyramid[row+1][i+1])\n",
        "    print(pyramid[:row+1])\n",
        "print(pyramid[0][0])"
      ],
      "metadata": {
        "colab": {
          "base_uri": "https://localhost:8080/"
        },
        "id": "aLY9yRyvlce0",
        "outputId": "071d6c4a-cab9-4f5f-f368-2576f175bcef"
      },
      "execution_count": 9,
      "outputs": [
        {
          "output_type": "stream",
          "name": "stdout",
          "text": [
            "[[75], [95, 64], [17, 47, 82], [18, 35, 87, 10], [20, 4, 82, 47, 65], [19, 1, 23, 75, 3, 34], [88, 2, 77, 73, 7, 63, 67], [99, 65, 4, 28, 6, 16, 70, 92], [41, 41, 26, 56, 83, 40, 80, 70, 33], [41, 48, 72, 33, 47, 32, 37, 16, 94, 29], [53, 71, 44, 65, 25, 43, 91, 52, 97, 51, 14], [70, 11, 33, 28, 77, 73, 17, 78, 39, 68, 17, 57], [91, 71, 52, 38, 17, 14, 91, 43, 58, 50, 27, 29, 48], [125, 164, 102, 95, 112, 123, 165, 128, 166, 109, 122, 147, 100, 54]]\n",
            "[[75], [95, 64], [17, 47, 82], [18, 35, 87, 10], [20, 4, 82, 47, 65], [19, 1, 23, 75, 3, 34], [88, 2, 77, 73, 7, 63, 67], [99, 65, 4, 28, 6, 16, 70, 92], [41, 41, 26, 56, 83, 40, 80, 70, 33], [41, 48, 72, 33, 47, 32, 37, 16, 94, 29], [53, 71, 44, 65, 25, 43, 91, 52, 97, 51, 14], [70, 11, 33, 28, 77, 73, 17, 78, 39, 68, 17, 57], [255, 235, 154, 150, 140, 179, 256, 209, 224, 172, 174, 176, 148]]\n",
            "[[75], [95, 64], [17, 47, 82], [18, 35, 87, 10], [20, 4, 82, 47, 65], [19, 1, 23, 75, 3, 34], [88, 2, 77, 73, 7, 63, 67], [99, 65, 4, 28, 6, 16, 70, 92], [41, 41, 26, 56, 83, 40, 80, 70, 33], [41, 48, 72, 33, 47, 32, 37, 16, 94, 29], [53, 71, 44, 65, 25, 43, 91, 52, 97, 51, 14], [325, 246, 187, 178, 256, 329, 273, 302, 263, 242, 193, 233]]\n",
            "[[75], [95, 64], [17, 47, 82], [18, 35, 87, 10], [20, 4, 82, 47, 65], [19, 1, 23, 75, 3, 34], [88, 2, 77, 73, 7, 63, 67], [99, 65, 4, 28, 6, 16, 70, 92], [41, 41, 26, 56, 83, 40, 80, 70, 33], [41, 48, 72, 33, 47, 32, 37, 16, 94, 29], [378, 317, 231, 321, 354, 372, 393, 354, 360, 293, 247]]\n",
            "[[75], [95, 64], [17, 47, 82], [18, 35, 87, 10], [20, 4, 82, 47, 65], [19, 1, 23, 75, 3, 34], [88, 2, 77, 73, 7, 63, 67], [99, 65, 4, 28, 6, 16, 70, 92], [41, 41, 26, 56, 83, 40, 80, 70, 33], [419, 365, 393, 387, 419, 425, 430, 376, 454, 322]]\n",
            "[[75], [95, 64], [17, 47, 82], [18, 35, 87, 10], [20, 4, 82, 47, 65], [19, 1, 23, 75, 3, 34], [88, 2, 77, 73, 7, 63, 67], [99, 65, 4, 28, 6, 16, 70, 92], [460, 434, 419, 475, 508, 470, 510, 524, 487]]\n",
            "[[75], [95, 64], [17, 47, 82], [18, 35, 87, 10], [20, 4, 82, 47, 65], [19, 1, 23, 75, 3, 34], [88, 2, 77, 73, 7, 63, 67], [559, 499, 479, 536, 514, 526, 594, 616]]\n",
            "[[75], [95, 64], [17, 47, 82], [18, 35, 87, 10], [20, 4, 82, 47, 65], [19, 1, 23, 75, 3, 34], [647, 501, 613, 609, 533, 657, 683]]\n",
            "[[75], [95, 64], [17, 47, 82], [18, 35, 87, 10], [20, 4, 82, 47, 65], [666, 614, 636, 684, 660, 717]]\n",
            "[[75], [95, 64], [17, 47, 82], [18, 35, 87, 10], [686, 640, 766, 731, 782]]\n",
            "[[75], [95, 64], [17, 47, 82], [704, 801, 853, 792]]\n",
            "[[75], [95, 64], [818, 900, 935]]\n",
            "[[75], [995, 999]]\n",
            "[[1074]]\n",
            "1074\n"
          ]
        }
      ]
    },
    {
      "cell_type": "code",
      "source": [],
      "metadata": {
        "id": "BFe6ZEYtnR7u"
      },
      "execution_count": null,
      "outputs": []
    }
  ]
}