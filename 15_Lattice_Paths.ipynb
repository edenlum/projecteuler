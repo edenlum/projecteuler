{
  "nbformat": 4,
  "nbformat_minor": 0,
  "metadata": {
    "colab": {
      "provenance": [],
      "authorship_tag": "ABX9TyMIGALwnEcvlXDEUk2hD0bT",
      "include_colab_link": true
    },
    "kernelspec": {
      "name": "python3",
      "display_name": "Python 3"
    },
    "language_info": {
      "name": "python"
    }
  },
  "cells": [
    {
      "cell_type": "markdown",
      "metadata": {
        "id": "view-in-github",
        "colab_type": "text"
      },
      "source": [
        "<a href=\"https://colab.research.google.com/github/edenlum/projecteuler/blob/main/15_Lattice_Paths.ipynb\" target=\"_parent\"><img src=\"https://colab.research.google.com/assets/colab-badge.svg\" alt=\"Open In Colab\"/></a>"
      ]
    },
    {
      "cell_type": "markdown",
      "source": [
        "https://projecteuler.net/problem=15"
      ],
      "metadata": {
        "id": "YvxqLMbXF3Xk"
      }
    },
    {
      "cell_type": "markdown",
      "source": [
        "<p>Starting in the top left corner of a $2 \\times 2$ grid, and only being able to move to the right and down, there are exactly $6$ routes to the bottom right corner.</p>\n",
        "<div class=\"center\">\n",
        "<img src=\"resources/images/0015.png?1678992052\" class=\"dark_img\" alt=\"\"></div>\n",
        "<p>How many such routes are there through a $20 \\times 20$ grid?</p>"
      ],
      "metadata": {
        "id": "icRw8NkEF7T-"
      }
    },
    {
      "cell_type": "code",
      "execution_count": 23,
      "metadata": {
        "colab": {
          "base_uri": "https://localhost:8080/"
        },
        "id": "6qEgtMnvF2Gj",
        "outputId": "23a2753d-11e5-4d23-e9b7-930d3fbce803"
      },
      "outputs": [
        {
          "output_type": "stream",
          "name": "stdout",
          "text": [
            "[[12870  6435  3003  1287   495   165    45     9     1     0]\n",
            " [ 6435  3432  1716   792   330   120    36     8     1     0]\n",
            " [ 3003  1716   924   462   210    84    28     7     1     0]\n",
            " [ 1287   792   462   252   126    56    21     6     1     0]\n",
            " [  495   330   210   126    70    35    15     5     1     0]\n",
            " [  165   120    84    56    35    20    10     4     1     0]\n",
            " [   45    36    28    21    15    10     6     3     1     0]\n",
            " [    9     8     7     6     5     4     3     2     1     0]\n",
            " [    1     1     1     1     1     1     1     1     1     0]\n",
            " [    0     0     0     0     0     0     0     0     0     0]]\n"
          ]
        }
      ],
      "source": [
        "# the number of paths from a point is equal to the sum of the number of paths from the points right and down from it.\n",
        "import numpy as np\n",
        "\n",
        "n = 8\n",
        "# we pad with zeros, and an nxn grid has n+1 points (so together with padding its n+2)\n",
        "grid = np.zeros((n+2, n+2), dtype=int)\n",
        "grid[n, n] = 1\n",
        "\n",
        "# going over diagonals\n",
        "for s in range((n)*2-1, -1, -1):\n",
        "    for row in range(s - min(n, s), min(n, s) + 1):\n",
        "        col = s - row\n",
        "        grid[row, col] = grid[row+1, col] + grid[row, col+1]\n",
        "\n",
        "print(grid)"
      ]
    }
  ]
}